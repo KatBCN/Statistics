{
 "cells": [
  {
   "cell_type": "markdown",
   "id": "57510585",
   "metadata": {},
   "source": [
    "# <font color='#d50283'>IT Academy - Data Science Itinerary</font>\n",
    "## Sprint 7 Task 1 - Data, Probability & Statistics\n",
    "### Assignment by: Kat Weissman\n",
    "\n",
    "#### Python Learning Objectives:\n",
    "- Calculate different data statistics\n",
    "- Graph different statistics of the data"
   ]
  },
  {
   "cell_type": "markdown",
   "id": "6ce01116",
   "metadata": {},
   "source": [
    "*Recommended learning resources:*\n",
    "- https://www.mathsisfun.com/data/\n",
    "- https://www.khanacademy.org/math/statistics-probability/random-variables-stats-library\n",
    "- https://www.khanacademy.org/math/statistics-probability/sampling-distributions-library\n",
    "- https://www.khanacademy.org/math/statistics-probability/significance-tests-confidence-intervals-two-samples\n",
    "- https://www.datasciencecentral.com/profiles/blogs/understanding-the-applications-of-probability-in-machine-learning#:~:text=Probability%20is%20a%20measure%20of,make%20decisions%20with%20incomplete%20information.&text=Using%20probability%2C%20we%20can%20model,and%20many%20other%20business%20processes.\n",
    "- https://machinelearningmastery.com/probability-for-machine-learning-7-day-mini-course/\n",
    "- https://www.khanacademy.org/math/statistics-probability/probability-library\n",
    "- https://www.khanacademy.org/math/statistics-probability/counting-permutations-and-combinations<\n"
   ]
  },
  {
   "cell_type": "code",
   "execution_count": 1,
   "id": "932e69da",
   "metadata": {
    "ExecuteTime": {
     "end_time": "2021-07-22T10:31:49.600112Z",
     "start_time": "2021-07-22T10:31:49.590900Z"
    }
   },
   "outputs": [],
   "source": [
    "#Import libraries\n",
    "import numpy as np\n",
    "import pandas as pd\n",
    "import matplotlib.pyplot as plt\n",
    "import seaborn as sns"
   ]
  },
  {
   "cell_type": "markdown",
   "id": "0930e7af",
   "metadata": {},
   "source": [
    "#### Data Exploration"
   ]
  },
  {
   "cell_type": "markdown",
   "id": "1e972c68",
   "metadata": {},
   "source": [
    "IFSC Sport Climbing - Speed Competition Results in 2018 and 2019\n",
    "\n",
    "Data taken from https://www.kaggle.com/brkurzawa/ifsc-sport-climbing-competition-results?rvi=1"
   ]
  },
  {
   "cell_type": "code",
   "execution_count": 2,
   "id": "276e8c30",
   "metadata": {},
   "outputs": [],
   "source": [
    "data_link = 'https://raw.githubusercontent.com/KatBCN/Statistics/main/speed_results.csv'\n",
    "df = pd.read_csv(data_link)"
   ]
  },
  {
   "cell_type": "code",
   "execution_count": 3,
   "id": "676b7b91",
   "metadata": {},
   "outputs": [
    {
     "data": {
      "text/plain": [
       "(11868, 14)"
      ]
     },
     "execution_count": 3,
     "metadata": {},
     "output_type": "execute_result"
    }
   ],
   "source": [
    "#Show number of rows and columns in dataframe\n",
    "df.shape"
   ]
  },
  {
   "cell_type": "code",
   "execution_count": 4,
   "id": "fe56a352",
   "metadata": {
    "scrolled": false
   },
   "outputs": [
    {
     "data": {
      "text/plain": [
       "Index(['Competition Title', 'Competition Date', 'FIRST', 'LAST', 'Nation',\n",
       "       'StartNr', 'Rank', 'Qualification', '1/8 - Final', '1/4 - Final',\n",
       "       '1/2 - Final', 'Small final', 'Final', 'Category'],\n",
       "      dtype='object')"
      ]
     },
     "execution_count": 4,
     "metadata": {},
     "output_type": "execute_result"
    }
   ],
   "source": [
    "#Show column names\n",
    "df.columns"
   ]
  },
  {
   "cell_type": "code",
   "execution_count": 5,
   "id": "da2379e4",
   "metadata": {
    "scrolled": true
   },
   "outputs": [
    {
     "data": {
      "text/html": [
       "<div>\n",
       "<style scoped>\n",
       "    .dataframe tbody tr th:only-of-type {\n",
       "        vertical-align: middle;\n",
       "    }\n",
       "\n",
       "    .dataframe tbody tr th {\n",
       "        vertical-align: top;\n",
       "    }\n",
       "\n",
       "    .dataframe thead th {\n",
       "        text-align: right;\n",
       "    }\n",
       "</style>\n",
       "<table border=\"1\" class=\"dataframe\">\n",
       "  <thead>\n",
       "    <tr style=\"text-align: right;\">\n",
       "      <th></th>\n",
       "      <th>Competition Title</th>\n",
       "      <th>Competition Date</th>\n",
       "      <th>FIRST</th>\n",
       "      <th>LAST</th>\n",
       "      <th>Nation</th>\n",
       "      <th>StartNr</th>\n",
       "      <th>Rank</th>\n",
       "      <th>Qualification</th>\n",
       "      <th>1/8 - Final</th>\n",
       "      <th>1/4 - Final</th>\n",
       "      <th>1/2 - Final</th>\n",
       "      <th>Small final</th>\n",
       "      <th>Final</th>\n",
       "      <th>Category</th>\n",
       "    </tr>\n",
       "  </thead>\n",
       "  <tbody>\n",
       "    <tr>\n",
       "      <th>0</th>\n",
       "      <td>European Youth Championships (L,S) - Voronezh ...</td>\n",
       "      <td>18  - 20 Oktober 2019</td>\n",
       "      <td>Anna</td>\n",
       "      <td>CALANCA</td>\n",
       "      <td>ITA</td>\n",
       "      <td>114</td>\n",
       "      <td>1</td>\n",
       "      <td>8.686</td>\n",
       "      <td>NaN</td>\n",
       "      <td>8.855</td>\n",
       "      <td>9.442</td>\n",
       "      <td>NaN</td>\n",
       "      <td>8.661</td>\n",
       "      <td>speed</td>\n",
       "    </tr>\n",
       "    <tr>\n",
       "      <th>1</th>\n",
       "      <td>European Youth Championships (L,S) - Voronezh ...</td>\n",
       "      <td>18  - 20 Oktober 2019</td>\n",
       "      <td>Capucine</td>\n",
       "      <td>VIGLIONE</td>\n",
       "      <td>FRA</td>\n",
       "      <td>67</td>\n",
       "      <td>2</td>\n",
       "      <td>8.612</td>\n",
       "      <td>NaN</td>\n",
       "      <td>9.243</td>\n",
       "      <td>8.605</td>\n",
       "      <td>NaN</td>\n",
       "      <td>10.175</td>\n",
       "      <td>speed</td>\n",
       "    </tr>\n",
       "    <tr>\n",
       "      <th>2</th>\n",
       "      <td>European Youth Championships (L,S) - Voronezh ...</td>\n",
       "      <td>18  - 20 Oktober 2019</td>\n",
       "      <td>Lison</td>\n",
       "      <td>GAUTRON</td>\n",
       "      <td>FRA</td>\n",
       "      <td>66</td>\n",
       "      <td>3</td>\n",
       "      <td>8.977</td>\n",
       "      <td>NaN</td>\n",
       "      <td>8.546</td>\n",
       "      <td>13.409</td>\n",
       "      <td>8.886</td>\n",
       "      <td>NaN</td>\n",
       "      <td>speed</td>\n",
       "    </tr>\n",
       "    <tr>\n",
       "      <th>3</th>\n",
       "      <td>European Youth Championships (L,S) - Voronezh ...</td>\n",
       "      <td>18  - 20 Oktober 2019</td>\n",
       "      <td>Polina</td>\n",
       "      <td>KULAGINA</td>\n",
       "      <td>RUS</td>\n",
       "      <td>159</td>\n",
       "      <td>4</td>\n",
       "      <td>8.872</td>\n",
       "      <td>NaN</td>\n",
       "      <td>8.837</td>\n",
       "      <td>9.249</td>\n",
       "      <td>9.302</td>\n",
       "      <td>NaN</td>\n",
       "      <td>speed</td>\n",
       "    </tr>\n",
       "    <tr>\n",
       "      <th>4</th>\n",
       "      <td>European Youth Championships (L,S) - Voronezh ...</td>\n",
       "      <td>18  - 20 Oktober 2019</td>\n",
       "      <td>Kamilla</td>\n",
       "      <td>KUSHAEVA</td>\n",
       "      <td>RUS</td>\n",
       "      <td>160</td>\n",
       "      <td>5</td>\n",
       "      <td>8.871</td>\n",
       "      <td>NaN</td>\n",
       "      <td>8.639</td>\n",
       "      <td>NaN</td>\n",
       "      <td>NaN</td>\n",
       "      <td>NaN</td>\n",
       "      <td>speed</td>\n",
       "    </tr>\n",
       "  </tbody>\n",
       "</table>\n",
       "</div>"
      ],
      "text/plain": [
       "                                   Competition Title       Competition Date  \\\n",
       "0  European Youth Championships (L,S) - Voronezh ...  18  - 20 Oktober 2019   \n",
       "1  European Youth Championships (L,S) - Voronezh ...  18  - 20 Oktober 2019   \n",
       "2  European Youth Championships (L,S) - Voronezh ...  18  - 20 Oktober 2019   \n",
       "3  European Youth Championships (L,S) - Voronezh ...  18  - 20 Oktober 2019   \n",
       "4  European Youth Championships (L,S) - Voronezh ...  18  - 20 Oktober 2019   \n",
       "\n",
       "      FIRST      LAST Nation  StartNr  Rank Qualification 1/8 - Final  \\\n",
       "0      Anna   CALANCA    ITA      114     1         8.686         NaN   \n",
       "1  Capucine  VIGLIONE    FRA       67     2         8.612         NaN   \n",
       "2     Lison   GAUTRON    FRA       66     3         8.977         NaN   \n",
       "3    Polina  KULAGINA    RUS      159     4         8.872         NaN   \n",
       "4   Kamilla  KUSHAEVA    RUS      160     5         8.871         NaN   \n",
       "\n",
       "  1/4 - Final 1/2 - Final Small final   Final Category  \n",
       "0       8.855       9.442         NaN   8.661    speed  \n",
       "1       9.243       8.605         NaN  10.175    speed  \n",
       "2       8.546      13.409       8.886     NaN    speed  \n",
       "3       8.837       9.249       9.302     NaN    speed  \n",
       "4       8.639         NaN         NaN     NaN    speed  "
      ]
     },
     "execution_count": 5,
     "metadata": {},
     "output_type": "execute_result"
    }
   ],
   "source": [
    "#Display first 5 rows of dataframe\n",
    "df.head(5)"
   ]
  },
  {
   "cell_type": "code",
   "execution_count": 6,
   "id": "7279e2cb",
   "metadata": {},
   "outputs": [
    {
     "data": {
      "text/html": [
       "<div>\n",
       "<style scoped>\n",
       "    .dataframe tbody tr th:only-of-type {\n",
       "        vertical-align: middle;\n",
       "    }\n",
       "\n",
       "    .dataframe tbody tr th {\n",
       "        vertical-align: top;\n",
       "    }\n",
       "\n",
       "    .dataframe thead th {\n",
       "        text-align: right;\n",
       "    }\n",
       "</style>\n",
       "<table border=\"1\" class=\"dataframe\">\n",
       "  <thead>\n",
       "    <tr style=\"text-align: right;\">\n",
       "      <th></th>\n",
       "      <th>Competition Title</th>\n",
       "      <th>Competition Date</th>\n",
       "      <th>FIRST</th>\n",
       "      <th>LAST</th>\n",
       "      <th>Nation</th>\n",
       "      <th>StartNr</th>\n",
       "      <th>Rank</th>\n",
       "      <th>Qualification</th>\n",
       "      <th>1/8 - Final</th>\n",
       "      <th>1/4 - Final</th>\n",
       "      <th>1/2 - Final</th>\n",
       "      <th>Small final</th>\n",
       "      <th>Final</th>\n",
       "      <th>Category</th>\n",
       "    </tr>\n",
       "  </thead>\n",
       "  <tbody>\n",
       "    <tr>\n",
       "      <th>11863</th>\n",
       "      <td>European Youth Cup (L,S) - Voiron (FRA) 2018</td>\n",
       "      <td>7  - 8 April 2018</td>\n",
       "      <td>Mykhayil</td>\n",
       "      <td>TKACHUK</td>\n",
       "      <td>UKR</td>\n",
       "      <td>87</td>\n",
       "      <td>10</td>\n",
       "      <td>9.780</td>\n",
       "      <td>NaN</td>\n",
       "      <td>NaN</td>\n",
       "      <td>NaN</td>\n",
       "      <td>NaN</td>\n",
       "      <td>NaN</td>\n",
       "      <td>speed</td>\n",
       "    </tr>\n",
       "    <tr>\n",
       "      <th>11864</th>\n",
       "      <td>European Youth Cup (L,S) - Voiron (FRA) 2018</td>\n",
       "      <td>7  - 8 April 2018</td>\n",
       "      <td>Guillem</td>\n",
       "      <td>MONSECH GASCA</td>\n",
       "      <td>ESP</td>\n",
       "      <td>93</td>\n",
       "      <td>11</td>\n",
       "      <td>10.230</td>\n",
       "      <td>NaN</td>\n",
       "      <td>NaN</td>\n",
       "      <td>NaN</td>\n",
       "      <td>NaN</td>\n",
       "      <td>NaN</td>\n",
       "      <td>speed</td>\n",
       "    </tr>\n",
       "    <tr>\n",
       "      <th>11865</th>\n",
       "      <td>European Youth Cup (L,S) - Voiron (FRA) 2018</td>\n",
       "      <td>7  - 8 April 2018</td>\n",
       "      <td>Kristóf</td>\n",
       "      <td>TÓTH</td>\n",
       "      <td>HUN</td>\n",
       "      <td>86</td>\n",
       "      <td>12</td>\n",
       "      <td>10.270</td>\n",
       "      <td>NaN</td>\n",
       "      <td>NaN</td>\n",
       "      <td>NaN</td>\n",
       "      <td>NaN</td>\n",
       "      <td>NaN</td>\n",
       "      <td>speed</td>\n",
       "    </tr>\n",
       "    <tr>\n",
       "      <th>11866</th>\n",
       "      <td>European Youth Cup (L,S) - Voiron (FRA) 2018</td>\n",
       "      <td>7  - 8 April 2018</td>\n",
       "      <td>Jorge</td>\n",
       "      <td>DÍAZ-RULLO CALVO</td>\n",
       "      <td>ESP</td>\n",
       "      <td>89</td>\n",
       "      <td>13</td>\n",
       "      <td>11.910</td>\n",
       "      <td>NaN</td>\n",
       "      <td>NaN</td>\n",
       "      <td>NaN</td>\n",
       "      <td>NaN</td>\n",
       "      <td>NaN</td>\n",
       "      <td>speed</td>\n",
       "    </tr>\n",
       "    <tr>\n",
       "      <th>11867</th>\n",
       "      <td>European Youth Cup (L,S) - Voiron (FRA) 2018</td>\n",
       "      <td>7  - 8 April 2018</td>\n",
       "      <td>Mathis</td>\n",
       "      <td>BROSSIER</td>\n",
       "      <td>FRA</td>\n",
       "      <td>81</td>\n",
       "      <td>14</td>\n",
       "      <td>12.600</td>\n",
       "      <td>NaN</td>\n",
       "      <td>NaN</td>\n",
       "      <td>NaN</td>\n",
       "      <td>NaN</td>\n",
       "      <td>NaN</td>\n",
       "      <td>speed</td>\n",
       "    </tr>\n",
       "  </tbody>\n",
       "</table>\n",
       "</div>"
      ],
      "text/plain": [
       "                                   Competition Title   Competition Date  \\\n",
       "11863  European Youth Cup (L,S) - Voiron (FRA) 2018   7  - 8 April 2018   \n",
       "11864  European Youth Cup (L,S) - Voiron (FRA) 2018   7  - 8 April 2018   \n",
       "11865  European Youth Cup (L,S) - Voiron (FRA) 2018   7  - 8 April 2018   \n",
       "11866  European Youth Cup (L,S) - Voiron (FRA) 2018   7  - 8 April 2018   \n",
       "11867  European Youth Cup (L,S) - Voiron (FRA) 2018   7  - 8 April 2018   \n",
       "\n",
       "          FIRST              LAST Nation  StartNr  Rank Qualification  \\\n",
       "11863  Mykhayil           TKACHUK    UKR       87    10         9.780   \n",
       "11864   Guillem     MONSECH GASCA    ESP       93    11        10.230   \n",
       "11865   Kristóf              TÓTH    HUN       86    12        10.270   \n",
       "11866     Jorge  DÍAZ-RULLO CALVO    ESP       89    13        11.910   \n",
       "11867    Mathis          BROSSIER    FRA       81    14        12.600   \n",
       "\n",
       "      1/8 - Final 1/4 - Final 1/2 - Final Small final Final Category  \n",
       "11863         NaN         NaN         NaN         NaN   NaN    speed  \n",
       "11864         NaN         NaN         NaN         NaN   NaN    speed  \n",
       "11865         NaN         NaN         NaN         NaN   NaN    speed  \n",
       "11866         NaN         NaN         NaN         NaN   NaN    speed  \n",
       "11867         NaN         NaN         NaN         NaN   NaN    speed  "
      ]
     },
     "execution_count": 6,
     "metadata": {},
     "output_type": "execute_result"
    }
   ],
   "source": [
    "#Display last 5 rows of dataframe\n",
    "df.tail(5)"
   ]
  },
  {
   "cell_type": "code",
   "execution_count": 7,
   "id": "200225ad",
   "metadata": {},
   "outputs": [
    {
     "data": {
      "text/plain": [
       "Competition Title    object\n",
       "Competition Date     object\n",
       "FIRST                object\n",
       "LAST                 object\n",
       "Nation               object\n",
       "StartNr               int64\n",
       "Rank                  int64\n",
       "Qualification        object\n",
       "1/8 - Final          object\n",
       "1/4 - Final          object\n",
       "1/2 - Final          object\n",
       "Small final          object\n",
       "Final                object\n",
       "Category             object\n",
       "dtype: object"
      ]
     },
     "execution_count": 7,
     "metadata": {},
     "output_type": "execute_result"
    }
   ],
   "source": [
    "#Checking dataset variables\n",
    "df.dtypes"
   ]
  },
  {
   "cell_type": "code",
   "execution_count": 8,
   "id": "e7701289",
   "metadata": {
    "scrolled": true
   },
   "outputs": [
    {
     "name": "stdout",
     "output_type": "stream",
     "text": [
      "\n",
      "Competition Title\n",
      "count                                                 11868\n",
      "unique                                                   30\n",
      "top       IFSC Youth World Championships -  Arco (ITA) 2...\n",
      "freq                                                   1026\n",
      "Name: Competition Title, dtype: object\n",
      "\n",
      "\n",
      "Competition Date\n",
      "count                    11868\n",
      "unique                      29\n",
      "top       22  - 31 August 2019\n",
      "freq                      1026\n",
      "Name: Competition Date, dtype: object\n",
      "\n",
      "\n",
      "FIRST\n",
      "count     11868\n",
      "unique      997\n",
      "top       Elena\n",
      "freq        128\n",
      "Name: FIRST, dtype: object\n",
      "\n",
      "\n",
      "LAST\n",
      "count     11868\n",
      "unique     1089\n",
      "top         KIM\n",
      "freq        114\n",
      "Name: LAST, dtype: object\n",
      "\n",
      "\n",
      "Nation\n",
      "count     11868\n",
      "unique       62\n",
      "top         RUS\n",
      "freq       1169\n",
      "Name: Nation, dtype: object\n",
      "\n",
      "\n",
      "StartNr\n",
      "count    11868.000000\n",
      "mean       164.564796\n",
      "std        143.312498\n",
      "min          1.000000\n",
      "25%         54.000000\n",
      "50%        127.000000\n",
      "75%        234.000000\n",
      "max        797.000000\n",
      "Name: StartNr, dtype: float64\n",
      "\n",
      "\n",
      "Rank\n",
      "count    11868.000000\n",
      "mean        29.664644\n",
      "std         23.140900\n",
      "min          1.000000\n",
      "25%         11.000000\n",
      "50%         24.000000\n",
      "75%         44.000000\n",
      "max        110.000000\n",
      "Name: Rank, dtype: float64\n",
      "\n",
      "\n",
      "Qualification\n",
      "count           11868\n",
      "unique           2375\n",
      "top       false start\n",
      "freq              247\n",
      "Name: Qualification, dtype: object\n",
      "\n",
      "\n",
      "1/8 - Final\n",
      "count     2656\n",
      "unique     640\n",
      "top       fall\n",
      "freq       195\n",
      "Name: 1/8 - Final, dtype: object\n",
      "\n",
      "\n",
      "1/4 - Final\n",
      "count     2290\n",
      "unique     565\n",
      "top       fall\n",
      "freq       115\n",
      "Name: 1/4 - Final, dtype: object\n",
      "\n",
      "\n",
      "1/2 - Final\n",
      "count     1181\n",
      "unique     322\n",
      "top       fall\n",
      "freq        70\n",
      "Name: 1/2 - Final, dtype: object\n",
      "\n",
      "\n",
      "Small final\n",
      "count      592\n",
      "unique     167\n",
      "top       fall\n",
      "freq        70\n",
      "Name: Small final, dtype: object\n",
      "\n",
      "\n",
      "Final\n",
      "count      589\n",
      "unique     169\n",
      "top       fall\n",
      "freq        55\n",
      "Name: Final, dtype: object\n",
      "\n",
      "\n",
      "Category\n",
      "count     11868\n",
      "unique        1\n",
      "top       speed\n",
      "freq      11868\n",
      "Name: Category, dtype: object\n",
      "\n"
     ]
    }
   ],
   "source": [
    "#View summary statistics of each variable.\n",
    "for v in df.columns:\n",
    "        print (\"\\n\" + v)\n",
    "        print(df[v].describe())\n",
    "        print ()"
   ]
  },
  {
   "cell_type": "code",
   "execution_count": 9,
   "id": "7322ae70",
   "metadata": {},
   "outputs": [
    {
     "data": {
      "text/plain": [
       "IFSC Youth World Championships -  Arco (ITA) 2019                    1026\n",
       "IFSC Youth World Championships -  Moscow (RUS) 2018                  1020\n",
       "IFSC Climbing World Championships - Innsbruck (AUT) 2018              657\n",
       "European Youth Championship (L, S) - Imst 2018                        654\n",
       "IFSC Climbing World Championships - Hachioji (JPN) 2019               546\n",
       "IFSC Climbing Worldcup (L, S) - Chamonix (FRA) 2019                   540\n",
       "IFSC Climbing Worldcup (B,S) - Moscow (RUS) 2019                      501\n",
       "European Youth Cup (S,L) - Imst (AUT) 2019                            483\n",
       "IFSC Climbing Worldcup (B,S) - Chongqing (CHN) 2019                   477\n",
       "IFSC Climbing Worldcup (L, S) - Villars (SUI) 2019                    471\n",
       "IFSC Climbing Worldcup (B,S) - Wujiang (CHN) 2019                     459\n",
       "IFSC Climbing Worldcup (L,S) - Chamonix (FRA) 2018                    435\n",
       "IFSC Climbing Worldcup (B,S) - Moscow (RUS) 2018                      429\n",
       "Asian Youth Championships - Chongqing (CHN) 2018                      423\n",
       "IFSC Climbing Worldcup (L,S) - Arco (ITA) 2018                        366\n",
       "IFSC Climbing Worldcup (L,S) - Villars (SUI) 2018                     363\n",
       "IFSC Climbing Worldcup (B,S) - Tai'an (CHN) 2018                      321\n",
       "IFSC Climbing Worldcup (B,S) - Chongqing (CHN) 2018                   315\n",
       "European Youth Cup (L,S) - Voiron (FRA) 2018                          279\n",
       "European Youth Cup (S) - Tarnow (POL) 2019                            267\n",
       "Asian Championships - Kurayoshi (JPN) 2018                            255\n",
       "European Youth Cup (S) - Mezzolombardo (ITA) 2019                     234\n",
       "European Youth Cup (S) - Bologna (ITA) 2018                           219\n",
       "IFSC Climbing Worldcup (L,S) - Xiamen (CHN) 2018                      216\n",
       "IFSC Climbing Worldcup (L,S) - Wujiang (CHN) 2018                     207\n",
       "European Youth Cup (S) - Mezzolombardo (ITA) 2018                     198\n",
       "Asia Cup (B,S) - Bangkok (THA) 2018                                   162\n",
       "IFSC PanAmerican Championship (L, S, B, C) - Guayaquil (ECU) 2018     159\n",
       "European Championship (L,S) - Edinburgh (GBR) 2019                    110\n",
       "European Youth Championships (L,S) - Voronezh (RUS) 2019               76\n",
       "Name: Competition Title, dtype: int64"
      ]
     },
     "execution_count": 9,
     "metadata": {},
     "output_type": "execute_result"
    }
   ],
   "source": [
    "#list number of observations per competition\n",
    "df['Competition Title'].value_counts()"
   ]
  },
  {
   "cell_type": "markdown",
   "id": "7a9fce31",
   "metadata": {},
   "source": [
    "In order to analyze the time data,  I need to separate the 'false start' and 'fall' results from the numerical timed results. I'm going to work with the Qualification results column and use one-hot encoding for falls and false starts."
   ]
  },
  {
   "cell_type": "code",
   "execution_count": 10,
   "id": "8531e174",
   "metadata": {},
   "outputs": [],
   "source": [
    "df.insert(loc=7, column='Quali_fall', value=np.where(df['Qualification'] == ('fall'), 1, 0))\n",
    "df.insert(loc=8, column='Quali_FS', value=np.where(df['Qualification'] == ('false start'), 1, 0))"
   ]
  },
  {
   "cell_type": "code",
   "execution_count": 11,
   "id": "629b8950",
   "metadata": {
    "scrolled": true
   },
   "outputs": [
    {
     "data": {
      "text/html": [
       "<div>\n",
       "<style scoped>\n",
       "    .dataframe tbody tr th:only-of-type {\n",
       "        vertical-align: middle;\n",
       "    }\n",
       "\n",
       "    .dataframe tbody tr th {\n",
       "        vertical-align: top;\n",
       "    }\n",
       "\n",
       "    .dataframe thead th {\n",
       "        text-align: right;\n",
       "    }\n",
       "</style>\n",
       "<table border=\"1\" class=\"dataframe\">\n",
       "  <thead>\n",
       "    <tr style=\"text-align: right;\">\n",
       "      <th></th>\n",
       "      <th>Competition Title</th>\n",
       "      <th>Competition Date</th>\n",
       "      <th>FIRST</th>\n",
       "      <th>LAST</th>\n",
       "      <th>Nation</th>\n",
       "      <th>StartNr</th>\n",
       "      <th>Rank</th>\n",
       "      <th>Quali_fall</th>\n",
       "      <th>Quali_FS</th>\n",
       "      <th>Qualification</th>\n",
       "      <th>1/8 - Final</th>\n",
       "      <th>1/4 - Final</th>\n",
       "      <th>1/2 - Final</th>\n",
       "      <th>Small final</th>\n",
       "      <th>Final</th>\n",
       "      <th>Category</th>\n",
       "    </tr>\n",
       "  </thead>\n",
       "  <tbody>\n",
       "    <tr>\n",
       "      <th>0</th>\n",
       "      <td>European Youth Championships (L,S) - Voronezh ...</td>\n",
       "      <td>18  - 20 Oktober 2019</td>\n",
       "      <td>Anna</td>\n",
       "      <td>CALANCA</td>\n",
       "      <td>ITA</td>\n",
       "      <td>114</td>\n",
       "      <td>1</td>\n",
       "      <td>0</td>\n",
       "      <td>0</td>\n",
       "      <td>8.686</td>\n",
       "      <td>NaN</td>\n",
       "      <td>8.855</td>\n",
       "      <td>9.442</td>\n",
       "      <td>NaN</td>\n",
       "      <td>8.661</td>\n",
       "      <td>speed</td>\n",
       "    </tr>\n",
       "    <tr>\n",
       "      <th>1</th>\n",
       "      <td>European Youth Championships (L,S) - Voronezh ...</td>\n",
       "      <td>18  - 20 Oktober 2019</td>\n",
       "      <td>Capucine</td>\n",
       "      <td>VIGLIONE</td>\n",
       "      <td>FRA</td>\n",
       "      <td>67</td>\n",
       "      <td>2</td>\n",
       "      <td>0</td>\n",
       "      <td>0</td>\n",
       "      <td>8.612</td>\n",
       "      <td>NaN</td>\n",
       "      <td>9.243</td>\n",
       "      <td>8.605</td>\n",
       "      <td>NaN</td>\n",
       "      <td>10.175</td>\n",
       "      <td>speed</td>\n",
       "    </tr>\n",
       "    <tr>\n",
       "      <th>2</th>\n",
       "      <td>European Youth Championships (L,S) - Voronezh ...</td>\n",
       "      <td>18  - 20 Oktober 2019</td>\n",
       "      <td>Lison</td>\n",
       "      <td>GAUTRON</td>\n",
       "      <td>FRA</td>\n",
       "      <td>66</td>\n",
       "      <td>3</td>\n",
       "      <td>0</td>\n",
       "      <td>0</td>\n",
       "      <td>8.977</td>\n",
       "      <td>NaN</td>\n",
       "      <td>8.546</td>\n",
       "      <td>13.409</td>\n",
       "      <td>8.886</td>\n",
       "      <td>NaN</td>\n",
       "      <td>speed</td>\n",
       "    </tr>\n",
       "    <tr>\n",
       "      <th>3</th>\n",
       "      <td>European Youth Championships (L,S) - Voronezh ...</td>\n",
       "      <td>18  - 20 Oktober 2019</td>\n",
       "      <td>Polina</td>\n",
       "      <td>KULAGINA</td>\n",
       "      <td>RUS</td>\n",
       "      <td>159</td>\n",
       "      <td>4</td>\n",
       "      <td>0</td>\n",
       "      <td>0</td>\n",
       "      <td>8.872</td>\n",
       "      <td>NaN</td>\n",
       "      <td>8.837</td>\n",
       "      <td>9.249</td>\n",
       "      <td>9.302</td>\n",
       "      <td>NaN</td>\n",
       "      <td>speed</td>\n",
       "    </tr>\n",
       "    <tr>\n",
       "      <th>4</th>\n",
       "      <td>European Youth Championships (L,S) - Voronezh ...</td>\n",
       "      <td>18  - 20 Oktober 2019</td>\n",
       "      <td>Kamilla</td>\n",
       "      <td>KUSHAEVA</td>\n",
       "      <td>RUS</td>\n",
       "      <td>160</td>\n",
       "      <td>5</td>\n",
       "      <td>0</td>\n",
       "      <td>0</td>\n",
       "      <td>8.871</td>\n",
       "      <td>NaN</td>\n",
       "      <td>8.639</td>\n",
       "      <td>NaN</td>\n",
       "      <td>NaN</td>\n",
       "      <td>NaN</td>\n",
       "      <td>speed</td>\n",
       "    </tr>\n",
       "  </tbody>\n",
       "</table>\n",
       "</div>"
      ],
      "text/plain": [
       "                                   Competition Title       Competition Date  \\\n",
       "0  European Youth Championships (L,S) - Voronezh ...  18  - 20 Oktober 2019   \n",
       "1  European Youth Championships (L,S) - Voronezh ...  18  - 20 Oktober 2019   \n",
       "2  European Youth Championships (L,S) - Voronezh ...  18  - 20 Oktober 2019   \n",
       "3  European Youth Championships (L,S) - Voronezh ...  18  - 20 Oktober 2019   \n",
       "4  European Youth Championships (L,S) - Voronezh ...  18  - 20 Oktober 2019   \n",
       "\n",
       "      FIRST      LAST Nation  StartNr  Rank  Quali_fall  Quali_FS  \\\n",
       "0      Anna   CALANCA    ITA      114     1           0         0   \n",
       "1  Capucine  VIGLIONE    FRA       67     2           0         0   \n",
       "2     Lison   GAUTRON    FRA       66     3           0         0   \n",
       "3    Polina  KULAGINA    RUS      159     4           0         0   \n",
       "4   Kamilla  KUSHAEVA    RUS      160     5           0         0   \n",
       "\n",
       "  Qualification 1/8 - Final 1/4 - Final 1/2 - Final Small final   Final  \\\n",
       "0         8.686         NaN       8.855       9.442         NaN   8.661   \n",
       "1         8.612         NaN       9.243       8.605         NaN  10.175   \n",
       "2         8.977         NaN       8.546      13.409       8.886     NaN   \n",
       "3         8.872         NaN       8.837       9.249       9.302     NaN   \n",
       "4         8.871         NaN       8.639         NaN         NaN     NaN   \n",
       "\n",
       "  Category  \n",
       "0    speed  \n",
       "1    speed  \n",
       "2    speed  \n",
       "3    speed  \n",
       "4    speed  "
      ]
     },
     "execution_count": 11,
     "metadata": {},
     "output_type": "execute_result"
    }
   ],
   "source": [
    "df.head(5)"
   ]
  },
  {
   "cell_type": "code",
   "execution_count": 12,
   "id": "66db1e46",
   "metadata": {},
   "outputs": [
    {
     "data": {
      "text/plain": [
       "70"
      ]
     },
     "execution_count": 12,
     "metadata": {},
     "output_type": "execute_result"
    }
   ],
   "source": [
    "df.Quali_fall.sum()"
   ]
  },
  {
   "cell_type": "markdown",
   "id": "5ecf89ca",
   "metadata": {},
   "source": [
    "After creating a binary column for Qualification falls, we can see that there were 70 falls in Qualifications in the data set."
   ]
  },
  {
   "cell_type": "code",
   "execution_count": 13,
   "id": "5820dead",
   "metadata": {
    "scrolled": true
   },
   "outputs": [
    {
     "data": {
      "text/plain": [
       "247"
      ]
     },
     "execution_count": 13,
     "metadata": {},
     "output_type": "execute_result"
    }
   ],
   "source": [
    "df.Quali_FS.sum()"
   ]
  },
  {
   "cell_type": "markdown",
   "id": "a62a5e6d",
   "metadata": {},
   "source": [
    "After creating a binary column for Qualification falls, we can see that there were 247 false starts in Qualifications in the data set."
   ]
  },
  {
   "cell_type": "code",
   "execution_count": 14,
   "id": "6b77008d",
   "metadata": {
    "scrolled": true
   },
   "outputs": [
    {
     "data": {
      "text/plain": [
       "0"
      ]
     },
     "execution_count": 14,
     "metadata": {},
     "output_type": "execute_result"
    }
   ],
   "source": [
    "df.Qualification.isna().sum()"
   ]
  },
  {
   "cell_type": "markdown",
   "id": "e590ba79",
   "metadata": {},
   "source": [
    "After checking the current number of NAs in the Qualification column, I will set the falls and false starts to NA, and then convert the dtype to numeric."
   ]
  },
  {
   "cell_type": "code",
   "execution_count": 15,
   "id": "1a98e440",
   "metadata": {},
   "outputs": [],
   "source": [
    "df['Qualification'] = np.where(df['Qualification'] == ('fall'), np.NaN, df.Qualification)"
   ]
  },
  {
   "cell_type": "code",
   "execution_count": 16,
   "id": "85cf41b5",
   "metadata": {},
   "outputs": [
    {
     "data": {
      "text/plain": [
       "70"
      ]
     },
     "execution_count": 16,
     "metadata": {},
     "output_type": "execute_result"
    }
   ],
   "source": [
    " df.Qualification.isna().sum()"
   ]
  },
  {
   "cell_type": "code",
   "execution_count": 17,
   "id": "57596877",
   "metadata": {},
   "outputs": [],
   "source": [
    "df['Qualification'] = np.where(df['Qualification'] == ('false start'), np.NaN, df.Qualification)"
   ]
  },
  {
   "cell_type": "code",
   "execution_count": 18,
   "id": "a887d940",
   "metadata": {},
   "outputs": [
    {
     "data": {
      "text/plain": [
       "317"
      ]
     },
     "execution_count": 18,
     "metadata": {},
     "output_type": "execute_result"
    }
   ],
   "source": [
    " df.Qualification.isna().sum()"
   ]
  },
  {
   "cell_type": "code",
   "execution_count": 19,
   "id": "28fc54c1",
   "metadata": {},
   "outputs": [],
   "source": [
    "df['Qualification'] = df['Qualification'].astype(float)"
   ]
  },
  {
   "cell_type": "code",
   "execution_count": null,
   "id": "4ac66c86",
   "metadata": {},
   "outputs": [],
   "source": []
  },
  {
   "cell_type": "markdown",
   "id": "8dc0493b",
   "metadata": {},
   "source": [
    "### Level 1\n",
    "\n",
    "### Exercise 1 \n",
    "Grab a sports theme dataset you like and select an attribute from the dataset. Calculate the mode, the median, the standard deviation, and the arithmetic mean."
   ]
  },
  {
   "cell_type": "code",
   "execution_count": 20,
   "id": "1238f88d",
   "metadata": {
    "scrolled": true
   },
   "outputs": [
    {
     "data": {
      "text/plain": [
       "count    11551.000000\n",
       "mean         9.808936\n",
       "std          3.568046\n",
       "min          5.542000\n",
       "25%          7.690000\n",
       "50%          9.150000\n",
       "75%         11.151000\n",
       "max        120.000000\n",
       "Name: Qualification, dtype: float64"
      ]
     },
     "execution_count": 20,
     "metadata": {},
     "output_type": "execute_result"
    }
   ],
   "source": [
    "df['Qualification'].describe()"
   ]
  },
  {
   "cell_type": "code",
   "execution_count": 21,
   "id": "609ed406",
   "metadata": {},
   "outputs": [
    {
     "data": {
      "text/plain": [
       "0    8.41\n",
       "1    8.61\n",
       "dtype: float64"
      ]
     },
     "execution_count": 21,
     "metadata": {},
     "output_type": "execute_result"
    }
   ],
   "source": [
    "df['Qualification'].mode()"
   ]
  },
  {
   "cell_type": "code",
   "execution_count": 22,
   "id": "acee4e30",
   "metadata": {},
   "outputs": [
    {
     "data": {
      "text/plain": [
       "8.610    30\n",
       "8.410    30\n",
       "6.280    27\n",
       "6.410    24\n",
       "9.800    24\n",
       "         ..\n",
       "9.607     1\n",
       "9.215     1\n",
       "9.811     1\n",
       "8.643     1\n",
       "8.686     1\n",
       "Name: Qualification, Length: 2373, dtype: int64"
      ]
     },
     "execution_count": 22,
     "metadata": {},
     "output_type": "execute_result"
    }
   ],
   "source": [
    "df['Qualification'].value_counts()"
   ]
  },
  {
   "cell_type": "markdown",
   "id": "002f3b07",
   "metadata": {},
   "source": [
    "Statistics for Qualification speed runs that did not result in a false start or a fall:\n",
    "- median: 9.15 seconds\n",
    "- mean: 9.81 seconds\n",
    "- standard deviation: 3.57 seconds\n",
    "- modes: 8.41 and 8.61 seconds (each appearing 30 times)"
   ]
  },
  {
   "cell_type": "code",
   "execution_count": 23,
   "id": "2be8e2e7",
   "metadata": {},
   "outputs": [
    {
     "data": {
      "image/png": "[encoded data removed]",
      "text/plain": [
       "<Figure size 432x288 with 1 Axes>"
      ]
     },
     "metadata": {
      "needs_background": "light"
     },
     "output_type": "display_data"
    }
   ],
   "source": [
    "sns.boxplot(x=df['Qualification'], color='lightblue', fliersize=3, linewidth=1 , width=.3)\n",
    "plt.title('Box Plot of Qualification Times')\n",
    "plt.xlabel('')\n",
    "plt.show()"
   ]
  },
  {
   "cell_type": "markdown",
   "id": "5e87884c",
   "metadata": {},
   "source": [
    "From the box plot, we can see there are many outliers, and the maximum is especially extreme."
   ]
  },
  {
   "cell_type": "markdown",
   "id": "2c24bd39",
   "metadata": {},
   "source": [
    "### Level 1\n",
    "### Exercise 2\n",
    "Continuing with the sports topic data, select two attributes and calculate their correlation.\n",
    "\n",
    "In order to continue, I need to do the same one-hot encoding for the '1/8 - Final' column to separate falls and false starts."
   ]
  },
  {
   "cell_type": "code",
   "execution_count": 24,
   "id": "4be669b9",
   "metadata": {},
   "outputs": [],
   "source": [
    "df.insert(loc=10, column='1/8_fall', value=np.where(df['1/8 - Final'] == ('fall'), 1, 0))\n",
    "df.insert(loc=11, column='1/8_FS', value=np.where(df['1/8 - Final'] == ('false start'), 1, 0))"
   ]
  },
  {
   "cell_type": "code",
   "execution_count": 25,
   "id": "b4638f1f",
   "metadata": {
    "scrolled": true
   },
   "outputs": [
    {
     "data": {
      "text/html": [
       "<div>\n",
       "<style scoped>\n",
       "    .dataframe tbody tr th:only-of-type {\n",
       "        vertical-align: middle;\n",
       "    }\n",
       "\n",
       "    .dataframe tbody tr th {\n",
       "        vertical-align: top;\n",
       "    }\n",
       "\n",
       "    .dataframe thead th {\n",
       "        text-align: right;\n",
       "    }\n",
       "</style>\n",
       "<table border=\"1\" class=\"dataframe\">\n",
       "  <thead>\n",
       "    <tr style=\"text-align: right;\">\n",
       "      <th></th>\n",
       "      <th>Competition Title</th>\n",
       "      <th>Competition Date</th>\n",
       "      <th>FIRST</th>\n",
       "      <th>LAST</th>\n",
       "      <th>Nation</th>\n",
       "      <th>StartNr</th>\n",
       "      <th>Rank</th>\n",
       "      <th>Quali_fall</th>\n",
       "      <th>Quali_FS</th>\n",
       "      <th>Qualification</th>\n",
       "      <th>1/8_fall</th>\n",
       "      <th>1/8_FS</th>\n",
       "      <th>1/8 - Final</th>\n",
       "      <th>1/4 - Final</th>\n",
       "      <th>1/2 - Final</th>\n",
       "      <th>Small final</th>\n",
       "      <th>Final</th>\n",
       "      <th>Category</th>\n",
       "    </tr>\n",
       "  </thead>\n",
       "  <tbody>\n",
       "    <tr>\n",
       "      <th>0</th>\n",
       "      <td>European Youth Championships (L,S) - Voronezh ...</td>\n",
       "      <td>18  - 20 Oktober 2019</td>\n",
       "      <td>Anna</td>\n",
       "      <td>CALANCA</td>\n",
       "      <td>ITA</td>\n",
       "      <td>114</td>\n",
       "      <td>1</td>\n",
       "      <td>0</td>\n",
       "      <td>0</td>\n",
       "      <td>8.686</td>\n",
       "      <td>0</td>\n",
       "      <td>0</td>\n",
       "      <td>NaN</td>\n",
       "      <td>8.855</td>\n",
       "      <td>9.442</td>\n",
       "      <td>NaN</td>\n",
       "      <td>8.661</td>\n",
       "      <td>speed</td>\n",
       "    </tr>\n",
       "    <tr>\n",
       "      <th>1</th>\n",
       "      <td>European Youth Championships (L,S) - Voronezh ...</td>\n",
       "      <td>18  - 20 Oktober 2019</td>\n",
       "      <td>Capucine</td>\n",
       "      <td>VIGLIONE</td>\n",
       "      <td>FRA</td>\n",
       "      <td>67</td>\n",
       "      <td>2</td>\n",
       "      <td>0</td>\n",
       "      <td>0</td>\n",
       "      <td>8.612</td>\n",
       "      <td>0</td>\n",
       "      <td>0</td>\n",
       "      <td>NaN</td>\n",
       "      <td>9.243</td>\n",
       "      <td>8.605</td>\n",
       "      <td>NaN</td>\n",
       "      <td>10.175</td>\n",
       "      <td>speed</td>\n",
       "    </tr>\n",
       "    <tr>\n",
       "      <th>2</th>\n",
       "      <td>European Youth Championships (L,S) - Voronezh ...</td>\n",
       "      <td>18  - 20 Oktober 2019</td>\n",
       "      <td>Lison</td>\n",
       "      <td>GAUTRON</td>\n",
       "      <td>FRA</td>\n",
       "      <td>66</td>\n",
       "      <td>3</td>\n",
       "      <td>0</td>\n",
       "      <td>0</td>\n",
       "      <td>8.977</td>\n",
       "      <td>0</td>\n",
       "      <td>0</td>\n",
       "      <td>NaN</td>\n",
       "      <td>8.546</td>\n",
       "      <td>13.409</td>\n",
       "      <td>8.886</td>\n",
       "      <td>NaN</td>\n",
       "      <td>speed</td>\n",
       "    </tr>\n",
       "    <tr>\n",
       "      <th>3</th>\n",
       "      <td>European Youth Championships (L,S) - Voronezh ...</td>\n",
       "      <td>18  - 20 Oktober 2019</td>\n",
       "      <td>Polina</td>\n",
       "      <td>KULAGINA</td>\n",
       "      <td>RUS</td>\n",
       "      <td>159</td>\n",
       "      <td>4</td>\n",
       "      <td>0</td>\n",
       "      <td>0</td>\n",
       "      <td>8.872</td>\n",
       "      <td>0</td>\n",
       "      <td>0</td>\n",
       "      <td>NaN</td>\n",
       "      <td>8.837</td>\n",
       "      <td>9.249</td>\n",
       "      <td>9.302</td>\n",
       "      <td>NaN</td>\n",
       "      <td>speed</td>\n",
       "    </tr>\n",
       "    <tr>\n",
       "      <th>4</th>\n",
       "      <td>European Youth Championships (L,S) - Voronezh ...</td>\n",
       "      <td>18  - 20 Oktober 2019</td>\n",
       "      <td>Kamilla</td>\n",
       "      <td>KUSHAEVA</td>\n",
       "      <td>RUS</td>\n",
       "      <td>160</td>\n",
       "      <td>5</td>\n",
       "      <td>0</td>\n",
       "      <td>0</td>\n",
       "      <td>8.871</td>\n",
       "      <td>0</td>\n",
       "      <td>0</td>\n",
       "      <td>NaN</td>\n",
       "      <td>8.639</td>\n",
       "      <td>NaN</td>\n",
       "      <td>NaN</td>\n",
       "      <td>NaN</td>\n",
       "      <td>speed</td>\n",
       "    </tr>\n",
       "  </tbody>\n",
       "</table>\n",
       "</div>"
      ],
      "text/plain": [
       "                                   Competition Title       Competition Date  \\\n",
       "0  European Youth Championships (L,S) - Voronezh ...  18  - 20 Oktober 2019   \n",
       "1  European Youth Championships (L,S) - Voronezh ...  18  - 20 Oktober 2019   \n",
       "2  European Youth Championships (L,S) - Voronezh ...  18  - 20 Oktober 2019   \n",
       "3  European Youth Championships (L,S) - Voronezh ...  18  - 20 Oktober 2019   \n",
       "4  European Youth Championships (L,S) - Voronezh ...  18  - 20 Oktober 2019   \n",
       "\n",
       "      FIRST      LAST Nation  StartNr  Rank  Quali_fall  Quali_FS  \\\n",
       "0      Anna   CALANCA    ITA      114     1           0         0   \n",
       "1  Capucine  VIGLIONE    FRA       67     2           0         0   \n",
       "2     Lison   GAUTRON    FRA       66     3           0         0   \n",
       "3    Polina  KULAGINA    RUS      159     4           0         0   \n",
       "4   Kamilla  KUSHAEVA    RUS      160     5           0         0   \n",
       "\n",
       "   Qualification  1/8_fall  1/8_FS 1/8 - Final 1/4 - Final 1/2 - Final  \\\n",
       "0          8.686         0       0         NaN       8.855       9.442   \n",
       "1          8.612         0       0         NaN       9.243       8.605   \n",
       "2          8.977         0       0         NaN       8.546      13.409   \n",
       "3          8.872         0       0         NaN       8.837       9.249   \n",
       "4          8.871         0       0         NaN       8.639         NaN   \n",
       "\n",
       "  Small final   Final Category  \n",
       "0         NaN   8.661    speed  \n",
       "1         NaN  10.175    speed  \n",
       "2       8.886     NaN    speed  \n",
       "3       9.302     NaN    speed  \n",
       "4         NaN     NaN    speed  "
      ]
     },
     "execution_count": 25,
     "metadata": {},
     "output_type": "execute_result"
    }
   ],
   "source": [
    "df.head(5)"
   ]
  },
  {
   "cell_type": "code",
   "execution_count": 26,
   "id": "e91d9423",
   "metadata": {},
   "outputs": [
    {
     "data": {
      "text/plain": [
       "195"
      ]
     },
     "execution_count": 26,
     "metadata": {},
     "output_type": "execute_result"
    }
   ],
   "source": [
    "df['1/8_fall'].sum()"
   ]
  },
  {
   "cell_type": "markdown",
   "id": "3a0e7100",
   "metadata": {},
   "source": [
    "There were 195 falls in the 1/8 finals."
   ]
  },
  {
   "cell_type": "code",
   "execution_count": 27,
   "id": "06d4ef9a",
   "metadata": {
    "scrolled": true
   },
   "outputs": [
    {
     "data": {
      "text/plain": [
       "54"
      ]
     },
     "execution_count": 27,
     "metadata": {},
     "output_type": "execute_result"
    }
   ],
   "source": [
    "df['1/8_FS'].sum()"
   ]
  },
  {
   "cell_type": "markdown",
   "id": "7feac14c",
   "metadata": {},
   "source": [
    "There were 54 false starts in the 1/8 finals."
   ]
  },
  {
   "cell_type": "code",
   "execution_count": 28,
   "id": "42fc7fb5",
   "metadata": {},
   "outputs": [
    {
     "data": {
      "text/plain": [
       "9212"
      ]
     },
     "execution_count": 28,
     "metadata": {},
     "output_type": "execute_result"
    }
   ],
   "source": [
    "df['1/8 - Final'].isna().sum()"
   ]
  },
  {
   "cell_type": "code",
   "execution_count": 29,
   "id": "65ead058",
   "metadata": {},
   "outputs": [],
   "source": [
    "df['1/8 - Final'] = np.where(df['1/8 - Final'] == ('fall'), np.NaN, df['1/8 - Final'])\n",
    "df['1/8 - Final'] = np.where(df['1/8 - Final'] == ('false start'), np.NaN, df['1/8 - Final'])"
   ]
  },
  {
   "cell_type": "code",
   "execution_count": 30,
   "id": "30ad4245",
   "metadata": {
    "scrolled": true
   },
   "outputs": [
    {
     "data": {
      "text/plain": [
       "9461"
      ]
     },
     "execution_count": 30,
     "metadata": {},
     "output_type": "execute_result"
    }
   ],
   "source": [
    "df['1/8 - Final'].isna().sum()"
   ]
  },
  {
   "cell_type": "markdown",
   "id": "bb5464e2",
   "metadata": {},
   "source": [
    "I got an error when trying to convert the '1/8 - Final' column dtype to float and identified another category which is Wildcard."
   ]
  },
  {
   "cell_type": "code",
   "execution_count": 31,
   "id": "e93898ed",
   "metadata": {},
   "outputs": [],
   "source": [
    "df.insert(loc=12, column='1/8_WC', value=np.where(df['1/8 - Final'] == ('Wildcard'), 1, 0))"
   ]
  },
  {
   "cell_type": "code",
   "execution_count": 32,
   "id": "d473c603",
   "metadata": {
    "scrolled": true
   },
   "outputs": [
    {
     "data": {
      "text/plain": [
       "42"
      ]
     },
     "execution_count": 32,
     "metadata": {},
     "output_type": "execute_result"
    }
   ],
   "source": [
    "df['1/8_WC'].sum()"
   ]
  },
  {
   "cell_type": "markdown",
   "id": "82ef5011",
   "metadata": {},
   "source": [
    "There were 42 wildcards in the 1/8 final"
   ]
  },
  {
   "cell_type": "code",
   "execution_count": 33,
   "id": "772ddaf5",
   "metadata": {},
   "outputs": [],
   "source": [
    "df['1/8 - Final'] = np.where(df['1/8 - Final'] == ('Wildcard'), np.NaN, df['1/8 - Final'])"
   ]
  },
  {
   "cell_type": "code",
   "execution_count": 34,
   "id": "45b90434",
   "metadata": {
    "scrolled": true
   },
   "outputs": [
    {
     "data": {
      "text/plain": [
       "9503"
      ]
     },
     "execution_count": 34,
     "metadata": {},
     "output_type": "execute_result"
    }
   ],
   "source": [
    "df['1/8 - Final'].isna().sum()"
   ]
  },
  {
   "cell_type": "code",
   "execution_count": 35,
   "id": "930b902d",
   "metadata": {},
   "outputs": [],
   "source": [
    "df['1/8 - Final'] = df['1/8 - Final'].astype(float)"
   ]
  },
  {
   "cell_type": "code",
   "execution_count": 36,
   "id": "39327af2",
   "metadata": {},
   "outputs": [
    {
     "data": {
      "text/plain": [
       "count    2365.000000\n",
       "mean        8.595807\n",
       "std         4.453440\n",
       "min         5.580000\n",
       "25%         6.569000\n",
       "50%         8.100000\n",
       "75%         9.210000\n",
       "max       100.000000\n",
       "Name: 1/8 - Final, dtype: float64"
      ]
     },
     "execution_count": 36,
     "metadata": {},
     "output_type": "execute_result"
    }
   ],
   "source": [
    "df['1/8 - Final'].describe()"
   ]
  },
  {
   "cell_type": "code",
   "execution_count": 37,
   "id": "fc15b03a",
   "metadata": {},
   "outputs": [
    {
     "data": {
      "text/plain": [
       "8.190    15\n",
       "6.120    15\n",
       "6.200    15\n",
       "8.310    12\n",
       "5.950    12\n",
       "         ..\n",
       "6.443     2\n",
       "6.457     2\n",
       "7.572     2\n",
       "8.284     2\n",
       "6.241     2\n",
       "Name: 1/8 - Final, Length: 637, dtype: int64"
      ]
     },
     "execution_count": 37,
     "metadata": {},
     "output_type": "execute_result"
    }
   ],
   "source": [
    "df['1/8 - Final'].value_counts()"
   ]
  },
  {
   "cell_type": "markdown",
   "id": "3dfdcc5c",
   "metadata": {},
   "source": [
    "Statistics for 1/8 - Final speed runs that did not result in a false start, fall, or wildcard:\n",
    "\n",
    "- median: 8.10 seconds\n",
    "- mean: 8.56 seconds\n",
    "- standard deviation: 4.45 seconds\n",
    "- modes: 8.19, 6.12, and 6.2 seconds (each appearing 15 times)"
   ]
  },
  {
   "cell_type": "code",
   "execution_count": 38,
   "id": "2a7a54c0",
   "metadata": {},
   "outputs": [
    {
     "data": {
      "image/png": "[encoded data removed]",
      "text/plain": [
       "<Figure size 432x288 with 1 Axes>"
      ]
     },
     "metadata": {
      "needs_background": "light"
     },
     "output_type": "display_data"
    }
   ],
   "source": [
    "sns.boxplot(x=df['1/8 - Final'], color='lightblue', fliersize=3, linewidth=1 , width=.3)\n",
    "plt.title('Box Plot of 1/8 Final Times')\n",
    "plt.xlabel('')\n",
    "plt.show()"
   ]
  },
  {
   "cell_type": "markdown",
   "id": "b1924056",
   "metadata": {},
   "source": [
    "The 1/8 final also has some extreme ouliers. I will set values greater than or equal to 35 seconds to NA and ignore them for both Qualifications and 1/8 final."
   ]
  },
  {
   "cell_type": "code",
   "execution_count": 39,
   "id": "f8371a60",
   "metadata": {},
   "outputs": [],
   "source": [
    "df['1/8 - Final'] = np.where(df['1/8 - Final'] >= 35, np.NaN, df['1/8 - Final'])\n",
    "df['Qualification'] = np.where(df['Qualification'] >= 35, np.NaN, df.Qualification)"
   ]
  },
  {
   "cell_type": "code",
   "execution_count": 40,
   "id": "74de5c5b",
   "metadata": {},
   "outputs": [
    {
     "data": {
      "text/plain": [
       "323"
      ]
     },
     "execution_count": 40,
     "metadata": {},
     "output_type": "execute_result"
    }
   ],
   "source": [
    "df['Qualification'].isna().sum()"
   ]
  },
  {
   "cell_type": "markdown",
   "id": "7cbd866a",
   "metadata": {},
   "source": [
    "The NA's increased from 317 to 323 removing outliers greater than or equal to 35 in the Qualification."
   ]
  },
  {
   "cell_type": "code",
   "execution_count": 41,
   "id": "d9d34602",
   "metadata": {},
   "outputs": [
    {
     "data": {
      "text/plain": [
       "9512"
      ]
     },
     "execution_count": 41,
     "metadata": {},
     "output_type": "execute_result"
    }
   ],
   "source": [
    "df['1/8 - Final'].isna().sum()"
   ]
  },
  {
   "cell_type": "markdown",
   "id": "e80e7bc8",
   "metadata": {},
   "source": [
    "The NA's increased from 9503 to 9512 removing outliers greater than or equal to 35 in the 1/8 Final."
   ]
  },
  {
   "cell_type": "code",
   "execution_count": 42,
   "id": "2f7ebfa3",
   "metadata": {},
   "outputs": [
    {
     "data": {
      "text/plain": [
       "count    11545.000000\n",
       "mean         9.772714\n",
       "std          3.059287\n",
       "min          5.542000\n",
       "25%          7.689000\n",
       "50%          9.143000\n",
       "75%         11.143000\n",
       "max         31.760000\n",
       "Name: Qualification, dtype: float64"
      ]
     },
     "execution_count": 42,
     "metadata": {},
     "output_type": "execute_result"
    }
   ],
   "source": [
    "df['Qualification'].describe()"
   ]
  },
  {
   "cell_type": "code",
   "execution_count": 43,
   "id": "8bffb951",
   "metadata": {},
   "outputs": [
    {
     "data": {
      "image/png": "[encoded data removed]",
      "text/plain": [
       "<Figure size 432x288 with 1 Axes>"
      ]
     },
     "metadata": {
      "needs_background": "light"
     },
     "output_type": "display_data"
    }
   ],
   "source": [
    "sns.boxplot(x=df['Qualification'], color='lightblue', fliersize=3, linewidth=1 , width=.3)\n",
    "plt.title('Box Plot of Qualification Times')\n",
    "plt.xlabel('')\n",
    "plt.show()"
   ]
  },
  {
   "cell_type": "code",
   "execution_count": 44,
   "id": "8d60d9b1",
   "metadata": {},
   "outputs": [
    {
     "data": {
      "text/plain": [
       "count    2356.000000\n",
       "mean        8.373974\n",
       "std         2.202060\n",
       "min         5.580000\n",
       "25%         6.560000\n",
       "50%         8.095000\n",
       "75%         9.190000\n",
       "max        20.000000\n",
       "Name: 1/8 - Final, dtype: float64"
      ]
     },
     "execution_count": 44,
     "metadata": {},
     "output_type": "execute_result"
    }
   ],
   "source": [
    "df['1/8 - Final'].describe()"
   ]
  },
  {
   "cell_type": "code",
   "execution_count": 45,
   "id": "51af98bf",
   "metadata": {},
   "outputs": [
    {
     "data": {
      "image/png": "[encoded data removed]",
      "text/plain": [
       "<Figure size 432x288 with 1 Axes>"
      ]
     },
     "metadata": {
      "needs_background": "light"
     },
     "output_type": "display_data"
    }
   ],
   "source": [
    "sns.boxplot(x=df['1/8 - Final'], color='lightblue', fliersize=3, linewidth=1 , width=.3)\n",
    "plt.title('Box Plot of 1/8 Final Times')\n",
    "plt.xlabel('')\n",
    "plt.show()"
   ]
  },
  {
   "cell_type": "markdown",
   "id": "60e46497",
   "metadata": {},
   "source": [
    "The outliers remaining in the data are not so extreme, and could be explained by athletes who slipped one or more times during their race and then recovered to finish with a recorded time.\n",
    "\n",
    "Next, we will look at a scatter plot of Qualification times and 1/8 Final times."
   ]
  },
  {
   "cell_type": "code",
   "execution_count": 46,
   "id": "0b2bfd3d",
   "metadata": {
    "scrolled": true
   },
   "outputs": [
    {
     "data": {
      "image/png": "[encoded data removed]",
      "text/plain": [
       "<Figure size 432x288 with 1 Axes>"
      ]
     },
     "metadata": {
      "needs_background": "light"
     },
     "output_type": "display_data"
    }
   ],
   "source": [
    "df.plot(x ='Qualification', y='1/8 - Final', kind='scatter')\n",
    "plt.title('Scatter Plot of Qualification & 1/8 Final Results')\n",
    "plt.xlabel('Qualification Time (seconds)')\n",
    "plt.ylabel('1/8 Final Time (seconds)')\n",
    "plt.show()"
   ]
  },
  {
   "cell_type": "markdown",
   "id": "0f64cc15",
   "metadata": {},
   "source": [
    "From the scatter plot, there appears to be a linear relationship between the attributes."
   ]
  },
  {
   "cell_type": "code",
   "execution_count": 47,
   "id": "ef55f939",
   "metadata": {},
   "outputs": [
    {
     "name": "stdout",
     "output_type": "stream",
     "text": [
      "[[1.0 0.86]\n",
      " [0.86 1.0]]\n"
     ]
    }
   ],
   "source": [
    "import numpy.ma as ma\n",
    "\n",
    "x = df['Qualification']\n",
    "y = df['1/8 - Final']\n",
    "\n",
    "print(ma.corrcoef(ma.masked_invalid(x), ma.masked_invalid(y)).round(2))"
   ]
  },
  {
   "cell_type": "code",
   "execution_count": 48,
   "id": "eaf630d0",
   "metadata": {},
   "outputs": [
    {
     "data": {
      "text/html": [
       "<div>\n",
       "<style scoped>\n",
       "    .dataframe tbody tr th:only-of-type {\n",
       "        vertical-align: middle;\n",
       "    }\n",
       "\n",
       "    .dataframe tbody tr th {\n",
       "        vertical-align: top;\n",
       "    }\n",
       "\n",
       "    .dataframe thead th {\n",
       "        text-align: right;\n",
       "    }\n",
       "</style>\n",
       "<table border=\"1\" class=\"dataframe\">\n",
       "  <thead>\n",
       "    <tr style=\"text-align: right;\">\n",
       "      <th></th>\n",
       "      <th>StartNr</th>\n",
       "      <th>Rank</th>\n",
       "      <th>Quali_fall</th>\n",
       "      <th>Quali_FS</th>\n",
       "      <th>Qualification</th>\n",
       "      <th>1/8_fall</th>\n",
       "      <th>1/8_FS</th>\n",
       "      <th>1/8_WC</th>\n",
       "      <th>1/8 - Final</th>\n",
       "    </tr>\n",
       "  </thead>\n",
       "  <tbody>\n",
       "    <tr>\n",
       "      <th>StartNr</th>\n",
       "      <td>1.00</td>\n",
       "      <td>-0.06</td>\n",
       "      <td>0.01</td>\n",
       "      <td>-0.01</td>\n",
       "      <td>-0.00</td>\n",
       "      <td>0.04</td>\n",
       "      <td>0.04</td>\n",
       "      <td>0.02</td>\n",
       "      <td>0.17</td>\n",
       "    </tr>\n",
       "    <tr>\n",
       "      <th>Rank</th>\n",
       "      <td>-0.06</td>\n",
       "      <td>1.00</td>\n",
       "      <td>0.08</td>\n",
       "      <td>0.25</td>\n",
       "      <td>0.34</td>\n",
       "      <td>-0.08</td>\n",
       "      <td>-0.05</td>\n",
       "      <td>-0.06</td>\n",
       "      <td>0.35</td>\n",
       "    </tr>\n",
       "    <tr>\n",
       "      <th>Quali_fall</th>\n",
       "      <td>0.01</td>\n",
       "      <td>0.08</td>\n",
       "      <td>1.00</td>\n",
       "      <td>-0.01</td>\n",
       "      <td>NaN</td>\n",
       "      <td>-0.01</td>\n",
       "      <td>-0.01</td>\n",
       "      <td>-0.00</td>\n",
       "      <td>NaN</td>\n",
       "    </tr>\n",
       "    <tr>\n",
       "      <th>Quali_FS</th>\n",
       "      <td>-0.01</td>\n",
       "      <td>0.25</td>\n",
       "      <td>-0.01</td>\n",
       "      <td>1.00</td>\n",
       "      <td>NaN</td>\n",
       "      <td>-0.02</td>\n",
       "      <td>-0.01</td>\n",
       "      <td>-0.01</td>\n",
       "      <td>NaN</td>\n",
       "    </tr>\n",
       "    <tr>\n",
       "      <th>Qualification</th>\n",
       "      <td>-0.00</td>\n",
       "      <td>0.34</td>\n",
       "      <td>NaN</td>\n",
       "      <td>NaN</td>\n",
       "      <td>1.00</td>\n",
       "      <td>-0.07</td>\n",
       "      <td>-0.05</td>\n",
       "      <td>-0.05</td>\n",
       "      <td>0.86</td>\n",
       "    </tr>\n",
       "    <tr>\n",
       "      <th>1/8_fall</th>\n",
       "      <td>0.04</td>\n",
       "      <td>-0.08</td>\n",
       "      <td>-0.01</td>\n",
       "      <td>-0.02</td>\n",
       "      <td>-0.07</td>\n",
       "      <td>1.00</td>\n",
       "      <td>-0.01</td>\n",
       "      <td>-0.01</td>\n",
       "      <td>NaN</td>\n",
       "    </tr>\n",
       "    <tr>\n",
       "      <th>1/8_FS</th>\n",
       "      <td>0.04</td>\n",
       "      <td>-0.05</td>\n",
       "      <td>-0.01</td>\n",
       "      <td>-0.01</td>\n",
       "      <td>-0.05</td>\n",
       "      <td>-0.01</td>\n",
       "      <td>1.00</td>\n",
       "      <td>-0.00</td>\n",
       "      <td>NaN</td>\n",
       "    </tr>\n",
       "    <tr>\n",
       "      <th>1/8_WC</th>\n",
       "      <td>0.02</td>\n",
       "      <td>-0.06</td>\n",
       "      <td>-0.00</td>\n",
       "      <td>-0.01</td>\n",
       "      <td>-0.05</td>\n",
       "      <td>-0.01</td>\n",
       "      <td>-0.00</td>\n",
       "      <td>1.00</td>\n",
       "      <td>NaN</td>\n",
       "    </tr>\n",
       "    <tr>\n",
       "      <th>1/8 - Final</th>\n",
       "      <td>0.17</td>\n",
       "      <td>0.35</td>\n",
       "      <td>NaN</td>\n",
       "      <td>NaN</td>\n",
       "      <td>0.86</td>\n",
       "      <td>NaN</td>\n",
       "      <td>NaN</td>\n",
       "      <td>NaN</td>\n",
       "      <td>1.00</td>\n",
       "    </tr>\n",
       "  </tbody>\n",
       "</table>\n",
       "</div>"
      ],
      "text/plain": [
       "               StartNr  Rank  Quali_fall  Quali_FS  Qualification  1/8_fall  \\\n",
       "StartNr           1.00 -0.06        0.01     -0.01          -0.00      0.04   \n",
       "Rank             -0.06  1.00        0.08      0.25           0.34     -0.08   \n",
       "Quali_fall        0.01  0.08        1.00     -0.01            NaN     -0.01   \n",
       "Quali_FS         -0.01  0.25       -0.01      1.00            NaN     -0.02   \n",
       "Qualification    -0.00  0.34         NaN       NaN           1.00     -0.07   \n",
       "1/8_fall          0.04 -0.08       -0.01     -0.02          -0.07      1.00   \n",
       "1/8_FS            0.04 -0.05       -0.01     -0.01          -0.05     -0.01   \n",
       "1/8_WC            0.02 -0.06       -0.00     -0.01          -0.05     -0.01   \n",
       "1/8 - Final       0.17  0.35         NaN       NaN           0.86       NaN   \n",
       "\n",
       "               1/8_FS  1/8_WC  1/8 - Final  \n",
       "StartNr          0.04    0.02         0.17  \n",
       "Rank            -0.05   -0.06         0.35  \n",
       "Quali_fall      -0.01   -0.00          NaN  \n",
       "Quali_FS        -0.01   -0.01          NaN  \n",
       "Qualification   -0.05   -0.05         0.86  \n",
       "1/8_fall        -0.01   -0.01          NaN  \n",
       "1/8_FS           1.00   -0.00          NaN  \n",
       "1/8_WC          -0.00    1.00          NaN  \n",
       "1/8 - Final       NaN     NaN         1.00  "
      ]
     },
     "execution_count": 48,
     "metadata": {},
     "output_type": "execute_result"
    }
   ],
   "source": [
    "df.corr().round(2)"
   ]
  },
  {
   "cell_type": "markdown",
   "id": "a6d02a2d",
   "metadata": {},
   "source": [
    "Using Numpy or Pandas, we can see the Pearson correlation coefficient between Qualification Time and 1/8 Final Time is 0.86 which is pretty strong, indicating that many athletes perform consistently between the Qualification round and 1/8 Finals round when they are able to record a time."
   ]
  },
  {
   "cell_type": "markdown",
   "id": "016bb905",
   "metadata": {},
   "source": [
    "In order to continue, I need to do the same one-hot encoding for the '1/4 - Final', '1/2 - Final', 'Small Final' and 'Final' columns to separate falls and false starts."
   ]
  },
  {
   "cell_type": "code",
   "execution_count": 49,
   "id": "9f37318c",
   "metadata": {},
   "outputs": [],
   "source": [
    "#Inserting new columns for one-hot encoding of falls and false starts\n",
    "df.insert(loc=14, column='1/4_fall', value=np.where(df['1/4 - Final'] == ('fall'), 1, 0))\n",
    "df.insert(loc=15, column='1/4_FS', value=np.where(df['1/4 - Final'] == ('false start'), 1, 0))"
   ]
  },
  {
   "cell_type": "code",
   "execution_count": 50,
   "id": "c6cba995",
   "metadata": {},
   "outputs": [],
   "source": [
    "df.insert(loc=17, column='1/2_fall', value=np.where(df['1/2 - Final'] == ('fall'), 1, 0))\n",
    "df.insert(loc=18, column='1/2_FS', value=np.where(df['1/2 - Final'] == ('false start'), 1, 0))"
   ]
  },
  {
   "cell_type": "code",
   "execution_count": 51,
   "id": "26d353c2",
   "metadata": {},
   "outputs": [],
   "source": [
    "df.insert(loc=20, column='Small_fall', value=np.where(df['Small final'] == ('fall'), 1, 0))\n",
    "df.insert(loc=21, column='Small_FS', value=np.where(df['Small final'] == ('false start'), 1, 0))"
   ]
  },
  {
   "cell_type": "code",
   "execution_count": 52,
   "id": "81c17ede",
   "metadata": {},
   "outputs": [],
   "source": [
    "df.insert(loc=23, column='Final_fall', value=np.where(df['Final'] == ('fall'), 1, 0))\n",
    "df.insert(loc=24, column='Final_FS', value=np.where(df['Final'] == ('false start'), 1, 0))"
   ]
  },
  {
   "cell_type": "code",
   "execution_count": 53,
   "id": "12912734",
   "metadata": {
    "scrolled": true
   },
   "outputs": [
    {
     "data": {
      "text/html": [
       "<div>\n",
       "<style scoped>\n",
       "    .dataframe tbody tr th:only-of-type {\n",
       "        vertical-align: middle;\n",
       "    }\n",
       "\n",
       "    .dataframe tbody tr th {\n",
       "        vertical-align: top;\n",
       "    }\n",
       "\n",
       "    .dataframe thead th {\n",
       "        text-align: right;\n",
       "    }\n",
       "</style>\n",
       "<table border=\"1\" class=\"dataframe\">\n",
       "  <thead>\n",
       "    <tr style=\"text-align: right;\">\n",
       "      <th></th>\n",
       "      <th>Competition Title</th>\n",
       "      <th>Competition Date</th>\n",
       "      <th>FIRST</th>\n",
       "      <th>LAST</th>\n",
       "      <th>Nation</th>\n",
       "      <th>StartNr</th>\n",
       "      <th>Rank</th>\n",
       "      <th>Quali_fall</th>\n",
       "      <th>Quali_FS</th>\n",
       "      <th>Qualification</th>\n",
       "      <th>...</th>\n",
       "      <th>1/2_fall</th>\n",
       "      <th>1/2_FS</th>\n",
       "      <th>1/2 - Final</th>\n",
       "      <th>Small_fall</th>\n",
       "      <th>Small_FS</th>\n",
       "      <th>Small final</th>\n",
       "      <th>Final_fall</th>\n",
       "      <th>Final_FS</th>\n",
       "      <th>Final</th>\n",
       "      <th>Category</th>\n",
       "    </tr>\n",
       "  </thead>\n",
       "  <tbody>\n",
       "    <tr>\n",
       "      <th>0</th>\n",
       "      <td>European Youth Championships (L,S) - Voronezh ...</td>\n",
       "      <td>18  - 20 Oktober 2019</td>\n",
       "      <td>Anna</td>\n",
       "      <td>CALANCA</td>\n",
       "      <td>ITA</td>\n",
       "      <td>114</td>\n",
       "      <td>1</td>\n",
       "      <td>0</td>\n",
       "      <td>0</td>\n",
       "      <td>8.686</td>\n",
       "      <td>...</td>\n",
       "      <td>0</td>\n",
       "      <td>0</td>\n",
       "      <td>9.442</td>\n",
       "      <td>0</td>\n",
       "      <td>0</td>\n",
       "      <td>NaN</td>\n",
       "      <td>0</td>\n",
       "      <td>0</td>\n",
       "      <td>8.661</td>\n",
       "      <td>speed</td>\n",
       "    </tr>\n",
       "    <tr>\n",
       "      <th>1</th>\n",
       "      <td>European Youth Championships (L,S) - Voronezh ...</td>\n",
       "      <td>18  - 20 Oktober 2019</td>\n",
       "      <td>Capucine</td>\n",
       "      <td>VIGLIONE</td>\n",
       "      <td>FRA</td>\n",
       "      <td>67</td>\n",
       "      <td>2</td>\n",
       "      <td>0</td>\n",
       "      <td>0</td>\n",
       "      <td>8.612</td>\n",
       "      <td>...</td>\n",
       "      <td>0</td>\n",
       "      <td>0</td>\n",
       "      <td>8.605</td>\n",
       "      <td>0</td>\n",
       "      <td>0</td>\n",
       "      <td>NaN</td>\n",
       "      <td>0</td>\n",
       "      <td>0</td>\n",
       "      <td>10.175</td>\n",
       "      <td>speed</td>\n",
       "    </tr>\n",
       "    <tr>\n",
       "      <th>2</th>\n",
       "      <td>European Youth Championships (L,S) - Voronezh ...</td>\n",
       "      <td>18  - 20 Oktober 2019</td>\n",
       "      <td>Lison</td>\n",
       "      <td>GAUTRON</td>\n",
       "      <td>FRA</td>\n",
       "      <td>66</td>\n",
       "      <td>3</td>\n",
       "      <td>0</td>\n",
       "      <td>0</td>\n",
       "      <td>8.977</td>\n",
       "      <td>...</td>\n",
       "      <td>0</td>\n",
       "      <td>0</td>\n",
       "      <td>13.409</td>\n",
       "      <td>0</td>\n",
       "      <td>0</td>\n",
       "      <td>8.886</td>\n",
       "      <td>0</td>\n",
       "      <td>0</td>\n",
       "      <td>NaN</td>\n",
       "      <td>speed</td>\n",
       "    </tr>\n",
       "    <tr>\n",
       "      <th>3</th>\n",
       "      <td>European Youth Championships (L,S) - Voronezh ...</td>\n",
       "      <td>18  - 20 Oktober 2019</td>\n",
       "      <td>Polina</td>\n",
       "      <td>KULAGINA</td>\n",
       "      <td>RUS</td>\n",
       "      <td>159</td>\n",
       "      <td>4</td>\n",
       "      <td>0</td>\n",
       "      <td>0</td>\n",
       "      <td>8.872</td>\n",
       "      <td>...</td>\n",
       "      <td>0</td>\n",
       "      <td>0</td>\n",
       "      <td>9.249</td>\n",
       "      <td>0</td>\n",
       "      <td>0</td>\n",
       "      <td>9.302</td>\n",
       "      <td>0</td>\n",
       "      <td>0</td>\n",
       "      <td>NaN</td>\n",
       "      <td>speed</td>\n",
       "    </tr>\n",
       "    <tr>\n",
       "      <th>4</th>\n",
       "      <td>European Youth Championships (L,S) - Voronezh ...</td>\n",
       "      <td>18  - 20 Oktober 2019</td>\n",
       "      <td>Kamilla</td>\n",
       "      <td>KUSHAEVA</td>\n",
       "      <td>RUS</td>\n",
       "      <td>160</td>\n",
       "      <td>5</td>\n",
       "      <td>0</td>\n",
       "      <td>0</td>\n",
       "      <td>8.871</td>\n",
       "      <td>...</td>\n",
       "      <td>0</td>\n",
       "      <td>0</td>\n",
       "      <td>NaN</td>\n",
       "      <td>0</td>\n",
       "      <td>0</td>\n",
       "      <td>NaN</td>\n",
       "      <td>0</td>\n",
       "      <td>0</td>\n",
       "      <td>NaN</td>\n",
       "      <td>speed</td>\n",
       "    </tr>\n",
       "  </tbody>\n",
       "</table>\n",
       "<p>5 rows × 27 columns</p>\n",
       "</div>"
      ],
      "text/plain": [
       "                                   Competition Title       Competition Date  \\\n",
       "0  European Youth Championships (L,S) - Voronezh ...  18  - 20 Oktober 2019   \n",
       "1  European Youth Championships (L,S) - Voronezh ...  18  - 20 Oktober 2019   \n",
       "2  European Youth Championships (L,S) - Voronezh ...  18  - 20 Oktober 2019   \n",
       "3  European Youth Championships (L,S) - Voronezh ...  18  - 20 Oktober 2019   \n",
       "4  European Youth Championships (L,S) - Voronezh ...  18  - 20 Oktober 2019   \n",
       "\n",
       "      FIRST      LAST Nation  StartNr  Rank  Quali_fall  Quali_FS  \\\n",
       "0      Anna   CALANCA    ITA      114     1           0         0   \n",
       "1  Capucine  VIGLIONE    FRA       67     2           0         0   \n",
       "2     Lison   GAUTRON    FRA       66     3           0         0   \n",
       "3    Polina  KULAGINA    RUS      159     4           0         0   \n",
       "4   Kamilla  KUSHAEVA    RUS      160     5           0         0   \n",
       "\n",
       "   Qualification  ...  1/2_fall  1/2_FS  1/2 - Final  Small_fall  Small_FS  \\\n",
       "0          8.686  ...         0       0        9.442           0         0   \n",
       "1          8.612  ...         0       0        8.605           0         0   \n",
       "2          8.977  ...         0       0       13.409           0         0   \n",
       "3          8.872  ...         0       0        9.249           0         0   \n",
       "4          8.871  ...         0       0          NaN           0         0   \n",
       "\n",
       "   Small final Final_fall  Final_FS   Final Category  \n",
       "0          NaN          0         0   8.661    speed  \n",
       "1          NaN          0         0  10.175    speed  \n",
       "2        8.886          0         0     NaN    speed  \n",
       "3        9.302          0         0     NaN    speed  \n",
       "4          NaN          0         0     NaN    speed  \n",
       "\n",
       "[5 rows x 27 columns]"
      ]
     },
     "execution_count": 53,
     "metadata": {},
     "output_type": "execute_result"
    }
   ],
   "source": [
    "df.head(5)"
   ]
  },
  {
   "cell_type": "code",
   "execution_count": 54,
   "id": "72441c87",
   "metadata": {
    "scrolled": true
   },
   "outputs": [
    {
     "name": "stdout",
     "output_type": "stream",
     "text": [
      "Falls in 1/4 finals through Finals\n",
      "115 70 70 55\n",
      "False Starts in 1/4 finals through Finals\n",
      "74 24 15 15\n"
     ]
    }
   ],
   "source": [
    "print('Falls in 1/4 finals through Finals')\n",
    "print(df['1/4_fall'].sum(),\n",
    "    df['1/2_fall'].sum(),\n",
    "    df['Small_fall'].sum(),\n",
    "    df['Final_fall'].sum())\n",
    "\n",
    "print('False Starts in 1/4 finals through Finals')\n",
    "print(df['1/4_FS'].sum(),\n",
    "    df['1/2_FS'].sum(),\n",
    "    df['Small_FS'].sum(),\n",
    "    df['Final_FS'].sum())"
   ]
  },
  {
   "cell_type": "code",
   "execution_count": 55,
   "id": "bd94b70a",
   "metadata": {},
   "outputs": [],
   "source": [
    "#Converting strings to NA where they have been one-hot encoded categorically\n",
    "df['1/4 - Final'] = np.where(df['1/4 - Final'] == ('fall'), np.NaN, df['1/4 - Final'])\n",
    "df['1/4 - Final'] = np.where(df['1/4 - Final'] == ('false start'), np.NaN, df['1/4 - Final']) "
   ]
  },
  {
   "cell_type": "code",
   "execution_count": 56,
   "id": "336d79bc",
   "metadata": {},
   "outputs": [],
   "source": [
    "df['1/2 - Final'] = np.where(df['1/2 - Final'] == ('fall'), np.NaN, df['1/2 - Final'])\n",
    "df['1/2 - Final'] = np.where(df['1/2 - Final'] == ('false start'), np.NaN, df['1/2 - Final']) "
   ]
  },
  {
   "cell_type": "code",
   "execution_count": 57,
   "id": "2ed0471a",
   "metadata": {},
   "outputs": [],
   "source": [
    "df['Small final'] = np.where(df['Small final'] == ('fall'), np.NaN, df['Small final'])\n",
    "df['Small final'] = np.where(df['Small final'] == ('false start'), np.NaN, df['Small final']) "
   ]
  },
  {
   "cell_type": "code",
   "execution_count": 58,
   "id": "f31eb729",
   "metadata": {},
   "outputs": [],
   "source": [
    "df['Final'] = np.where(df['Final'] == ('fall'), np.NaN, df['Final'])\n",
    "df['Final'] = np.where(df['Final'] == ('false start'), np.NaN, df['Final'])"
   ]
  },
  {
   "cell_type": "code",
   "execution_count": 59,
   "id": "444e8315",
   "metadata": {},
   "outputs": [],
   "source": [
    "#Change dtypes to floats for results columns\n",
    "df['Final'] = df['Final'].astype(float) "
   ]
  },
  {
   "cell_type": "markdown",
   "id": "783ac691",
   "metadata": {},
   "source": [
    "I received an error trying to convert the '1/4 Final', '1/2 Final', and 'Small final' dtypes to floats due to the extra category of Wildcard."
   ]
  },
  {
   "cell_type": "code",
   "execution_count": 60,
   "id": "8855c3b1",
   "metadata": {},
   "outputs": [],
   "source": [
    "#Adding one-hot encoding columns for Wildcards in 1/4 finals through small finals\n",
    "df.insert(loc=16, column='1/4_WC', value=np.where(df['1/4 - Final'] == ('Wildcard'), 1, 0))\n",
    "df.insert(loc=20, column='1/2_WC', value=np.where(df['1/2 - Final'] == ('Wildcard'), 1, 0))\n",
    "df.insert(loc=24, column='Small_WC', value=np.where(df['Small final'] == ('Wildcard'), 1, 0))"
   ]
  },
  {
   "cell_type": "code",
   "execution_count": 61,
   "id": "a662d135",
   "metadata": {},
   "outputs": [],
   "source": [
    "#Changing strings to NA where one-hot encoding has been added for Wildcard category\n",
    "df['1/4 - Final'] = np.where(df['1/4 - Final'] == ('Wildcard'), np.NaN, df['1/4 - Final'])\n",
    "df['1/2 - Final'] = np.where(df['1/2 - Final'] == ('Wildcard'), np.NaN, df['1/2 - Final'])\n",
    "df['Small final'] = np.where(df['Small final'] == ('Wildcard'), np.NaN, df['Small final'])"
   ]
  },
  {
   "cell_type": "code",
   "execution_count": 62,
   "id": "24a39812",
   "metadata": {},
   "outputs": [
    {
     "name": "stdout",
     "output_type": "stream",
     "text": [
      "Wildcards in 1/4 finals through Small finals\n",
      "24 18 12\n"
     ]
    }
   ],
   "source": [
    "print('Wildcards in 1/4 finals through Small finals')\n",
    "print(df['1/4_WC'].sum(),\n",
    "    df['1/2_WC'].sum(),\n",
    "    df['Small_WC'].sum())"
   ]
  },
  {
   "cell_type": "code",
   "execution_count": 63,
   "id": "922b5d81",
   "metadata": {},
   "outputs": [],
   "source": [
    "#Changing dtypes to floats for results column of 1/4 finals through small final\n",
    "df['1/4 - Final'] = df['1/4 - Final'].astype(float) \n",
    "df['1/2 - Final'] = df['1/2 - Final'].astype(float) \n",
    "df['Small final'] = df['Small final'].astype(float) "
   ]
  },
  {
   "cell_type": "code",
   "execution_count": 64,
   "id": "f06822c5",
   "metadata": {
    "scrolled": true
   },
   "outputs": [
    {
     "data": {
      "text/plain": [
       "count    2077.000000\n",
       "mean        9.232135\n",
       "std         7.938409\n",
       "min         5.609000\n",
       "25%         7.250000\n",
       "50%         8.382000\n",
       "75%         9.770000\n",
       "max       100.000000\n",
       "Name: 1/4 - Final, dtype: float64"
      ]
     },
     "execution_count": 64,
     "metadata": {},
     "output_type": "execute_result"
    }
   ],
   "source": [
    "df['1/4 - Final'].describe()"
   ]
  },
  {
   "cell_type": "code",
   "execution_count": 65,
   "id": "e8faad6b",
   "metadata": {},
   "outputs": [
    {
     "data": {
      "image/png": "[encoded data removed]",
      "text/plain": [
       "<Figure size 432x288 with 1 Axes>"
      ]
     },
     "metadata": {
      "needs_background": "light"
     },
     "output_type": "display_data"
    }
   ],
   "source": [
    "sns.boxplot(x=df['1/4 - Final'], color='lightblue', fliersize=3, linewidth=1 , width=.3)\n",
    "plt.title('Box Plot of 1/4 Final Times')\n",
    "plt.xlabel('')\n",
    "plt.show()"
   ]
  },
  {
   "cell_type": "code",
   "execution_count": 66,
   "id": "5055c03d",
   "metadata": {
    "scrolled": false
   },
   "outputs": [
    {
     "data": {
      "text/plain": [
       "count    1069.000000\n",
       "mean        9.199096\n",
       "std         8.643999\n",
       "min         5.513000\n",
       "25%         6.910000\n",
       "50%         8.240000\n",
       "75%         9.444000\n",
       "max       100.000000\n",
       "Name: 1/2 - Final, dtype: float64"
      ]
     },
     "execution_count": 66,
     "metadata": {},
     "output_type": "execute_result"
    }
   ],
   "source": [
    "df['1/2 - Final'].describe()"
   ]
  },
  {
   "cell_type": "code",
   "execution_count": 67,
   "id": "401e27aa",
   "metadata": {},
   "outputs": [
    {
     "data": {
      "image/png": "[encoded data removed]",
      "text/plain": [
       "<Figure size 432x288 with 1 Axes>"
      ]
     },
     "metadata": {
      "needs_background": "light"
     },
     "output_type": "display_data"
    }
   ],
   "source": [
    "sns.boxplot(x=df['1/2 - Final'], color='lightblue', fliersize=3, linewidth=1 , width=.3)\n",
    "plt.title('Box Plot of 1/2 Final Times')\n",
    "plt.xlabel('')\n",
    "plt.show()"
   ]
  },
  {
   "cell_type": "code",
   "execution_count": 68,
   "id": "c8b38a7f",
   "metadata": {
    "scrolled": false
   },
   "outputs": [
    {
     "data": {
      "text/plain": [
       "count    495.000000\n",
       "mean       9.168608\n",
       "std        7.399893\n",
       "min        0.001000\n",
       "25%        7.534000\n",
       "50%        8.540000\n",
       "75%        9.780000\n",
       "max      100.000000\n",
       "Name: Small final, dtype: float64"
      ]
     },
     "execution_count": 68,
     "metadata": {},
     "output_type": "execute_result"
    }
   ],
   "source": [
    "df['Small final'].describe()"
   ]
  },
  {
   "cell_type": "code",
   "execution_count": 69,
   "id": "87ddbf9d",
   "metadata": {},
   "outputs": [
    {
     "data": {
      "image/png": "[encoded data removed]",
      "text/plain": [
       "<Figure size 432x288 with 1 Axes>"
      ]
     },
     "metadata": {
      "needs_background": "light"
     },
     "output_type": "display_data"
    }
   ],
   "source": [
    "sns.boxplot(x=df['Small final'], color='lightblue', fliersize=3, linewidth=1 , width=.3)\n",
    "plt.title('Box Plot of Small final Times')\n",
    "plt.xlabel('')\n",
    "plt.show()"
   ]
  },
  {
   "cell_type": "code",
   "execution_count": 70,
   "id": "340d7268",
   "metadata": {
    "scrolled": true
   },
   "outputs": [
    {
     "data": {
      "text/plain": [
       "count    519.000000\n",
       "mean       8.569963\n",
       "std        7.082792\n",
       "min        5.542000\n",
       "25%        6.825000\n",
       "50%        8.040000\n",
       "75%        9.150000\n",
       "max       99.000000\n",
       "Name: Final, dtype: float64"
      ]
     },
     "execution_count": 70,
     "metadata": {},
     "output_type": "execute_result"
    }
   ],
   "source": [
    "df['Final'].describe()"
   ]
  },
  {
   "cell_type": "code",
   "execution_count": 71,
   "id": "484ff1e0",
   "metadata": {
    "scrolled": true
   },
   "outputs": [
    {
     "data": {
      "image/png": "[encoded data removed]",
      "text/plain": [
       "<Figure size 432x288 with 1 Axes>"
      ]
     },
     "metadata": {
      "needs_background": "light"
     },
     "output_type": "display_data"
    }
   ],
   "source": [
    "sns.boxplot(x=df['Final'], color='lightblue', fliersize=3, linewidth=1 , width=.3)\n",
    "plt.title('Box Plot of Final Times')\n",
    "plt.xlabel('')\n",
    "plt.show()"
   ]
  },
  {
   "cell_type": "markdown",
   "id": "5064335c",
   "metadata": {},
   "source": [
    "All of the results have some extreme ouliers. I will set values greater than or equal to 35 seconds to NA and ignore them for all of the results. Additionally, the 'Small Final' has an outlier close to zero which is an impossible time. Any value less than 5 seconds will also be set to NA."
   ]
  },
  {
   "cell_type": "code",
   "execution_count": 72,
   "id": "4b96377c",
   "metadata": {},
   "outputs": [],
   "source": [
    "df['1/4 - Final'] = np.where(df['1/4 - Final'] >= 35, np.NaN, df['1/4 - Final'])\n",
    "df['1/2 - Final'] = np.where(df['1/2 - Final'] >= 35, np.NaN, df['1/2 - Final'])\n",
    "df['Small final'] = np.where(df['Small final'] >= 35, np.NaN, df['Small final'])\n",
    "df['Small final'] = np.where(df['Small final'] <= 5, np.NaN, df['Small final'])\n",
    "df['Final'] = np.where(df['Final'] >= 35, np.NaN, df['Final'])"
   ]
  },
  {
   "cell_type": "code",
   "execution_count": 73,
   "id": "8d3644b6",
   "metadata": {
    "scrolled": true
   },
   "outputs": [
    {
     "data": {
      "image/png": "[encoded data removed]",
      "text/plain": [
       "<Figure size 432x288 with 1 Axes>"
      ]
     },
     "metadata": {
      "needs_background": "light"
     },
     "output_type": "display_data"
    }
   ],
   "source": [
    "sns.boxplot(x=df['1/4 - Final'], color='lightblue', fliersize=3, linewidth=1 , width=.3)\n",
    "plt.title('Box Plot of 1/4 Final Times - Extreme Outliers Removed')\n",
    "plt.xlabel('')\n",
    "plt.show()"
   ]
  },
  {
   "cell_type": "code",
   "execution_count": 74,
   "id": "2437baf3",
   "metadata": {},
   "outputs": [
    {
     "data": {
      "image/png": "[encoded data removed]",
      "text/plain": [
       "<Figure size 432x288 with 1 Axes>"
      ]
     },
     "metadata": {
      "needs_background": "light"
     },
     "output_type": "display_data"
    }
   ],
   "source": [
    "sns.boxplot(x=df['1/2 - Final'], color='lightblue', fliersize=3, linewidth=1 , width=.3)\n",
    "plt.title('Box Plot of 1/2 Final Times - Extreme Outliers Removed')\n",
    "plt.xlabel('')\n",
    "plt.show()"
   ]
  },
  {
   "cell_type": "code",
   "execution_count": 75,
   "id": "9ab96044",
   "metadata": {
    "scrolled": true
   },
   "outputs": [
    {
     "data": {
      "image/png": "[encoded data removed]",
      "text/plain": [
       "<Figure size 432x288 with 1 Axes>"
      ]
     },
     "metadata": {
      "needs_background": "light"
     },
     "output_type": "display_data"
    }
   ],
   "source": [
    "sns.boxplot(x=df['Small final'], color='lightblue', fliersize=3, linewidth=1 , width=.3)\n",
    "plt.title('Box Plot of Small final Times - Extreme Outliers Removed')\n",
    "plt.xlabel('')\n",
    "plt.show()"
   ]
  },
  {
   "cell_type": "code",
   "execution_count": 76,
   "id": "0e17d4c0",
   "metadata": {},
   "outputs": [
    {
     "data": {
      "image/png": "[encoded data removed]",
      "text/plain": [
       "<Figure size 432x288 with 1 Axes>"
      ]
     },
     "metadata": {
      "needs_background": "light"
     },
     "output_type": "display_data"
    }
   ],
   "source": [
    "sns.boxplot(x=df['Final'], color='lightblue', fliersize=3, linewidth=1 , width=.3)\n",
    "plt.title('Box Plot of Final Times - Extreme Outliers Removed')\n",
    "plt.xlabel('')\n",
    "plt.show()"
   ]
  },
  {
   "cell_type": "markdown",
   "id": "1590ea1f",
   "metadata": {},
   "source": [
    "After removing the extreme outliers which are likely due to timer errors, the box plots for each result column is more reasonable. Additionally, we can see that the number of outliers decreases as the competition rounds advance, which is an indicator that the athletes advancing to the next rounds perform more consistently and slip less often when racing."
   ]
  },
  {
   "cell_type": "markdown",
   "id": "f93c7a89",
   "metadata": {},
   "source": [
    "### Level 2\n",
    "### Exercise 3\n",
    "Continuing with the sports theme data, calculate the correlation of all attributes with each other and represent them in a matrix with different colors of intensity."
   ]
  },
  {
   "cell_type": "code",
   "execution_count": 77,
   "id": "e27f941c",
   "metadata": {
    "scrolled": false
   },
   "outputs": [
    {
     "data": {
      "image/png": "[encoded data removed]",
      "text/plain": [
       "<Figure size 432x288 with 2 Axes>"
      ]
     },
     "metadata": {
      "needs_background": "light"
     },
     "output_type": "display_data"
    }
   ],
   "source": [
    "corr = df.corr().round(2)\n",
    "\n",
    "mask = np.zeros_like(corr)\n",
    "mask[np.triu_indices_from(mask)] = True\n",
    "\n",
    "axis_corr = sns.heatmap(\n",
    "    corr,\n",
    "    vmin=-1, vmax=1, center=0,\n",
    "    cmap=sns.diverging_palette(50, 500, n=500),\n",
    "    square=True,\n",
    "    mask=mask\n",
    "    )\n",
    "\n",
    "plt.show()"
   ]
  },
  {
   "cell_type": "code",
   "execution_count": 78,
   "id": "021defc5",
   "metadata": {
    "scrolled": false
   },
   "outputs": [
    {
     "data": {
      "text/html": [
       "<div>\n",
       "<style scoped>\n",
       "    .dataframe tbody tr th:only-of-type {\n",
       "        vertical-align: middle;\n",
       "    }\n",
       "\n",
       "    .dataframe tbody tr th {\n",
       "        vertical-align: top;\n",
       "    }\n",
       "\n",
       "    .dataframe thead th {\n",
       "        text-align: right;\n",
       "    }\n",
       "</style>\n",
       "<table border=\"1\" class=\"dataframe\">\n",
       "  <thead>\n",
       "    <tr style=\"text-align: right;\">\n",
       "      <th></th>\n",
       "      <th>StartNr</th>\n",
       "      <th>Rank</th>\n",
       "      <th>Quali_fall</th>\n",
       "      <th>Quali_FS</th>\n",
       "      <th>Qualification</th>\n",
       "      <th>1/8_fall</th>\n",
       "      <th>1/8_FS</th>\n",
       "      <th>1/8_WC</th>\n",
       "      <th>1/8 - Final</th>\n",
       "      <th>1/4_fall</th>\n",
       "      <th>...</th>\n",
       "      <th>1/2_FS</th>\n",
       "      <th>1/2_WC</th>\n",
       "      <th>1/2 - Final</th>\n",
       "      <th>Small_fall</th>\n",
       "      <th>Small_FS</th>\n",
       "      <th>Small_WC</th>\n",
       "      <th>Small final</th>\n",
       "      <th>Final_fall</th>\n",
       "      <th>Final_FS</th>\n",
       "      <th>Final</th>\n",
       "    </tr>\n",
       "  </thead>\n",
       "  <tbody>\n",
       "    <tr>\n",
       "      <th>StartNr</th>\n",
       "      <td>1.00</td>\n",
       "      <td>-0.06</td>\n",
       "      <td>0.01</td>\n",
       "      <td>-0.01</td>\n",
       "      <td>-0.00</td>\n",
       "      <td>0.04</td>\n",
       "      <td>0.04</td>\n",
       "      <td>0.02</td>\n",
       "      <td>0.17</td>\n",
       "      <td>-0.01</td>\n",
       "      <td>...</td>\n",
       "      <td>-0.02</td>\n",
       "      <td>-0.02</td>\n",
       "      <td>-0.10</td>\n",
       "      <td>0.02</td>\n",
       "      <td>0.00</td>\n",
       "      <td>-0.00</td>\n",
       "      <td>-0.02</td>\n",
       "      <td>-0.02</td>\n",
       "      <td>0.00</td>\n",
       "      <td>-0.17</td>\n",
       "    </tr>\n",
       "    <tr>\n",
       "      <th>Rank</th>\n",
       "      <td>-0.06</td>\n",
       "      <td>1.00</td>\n",
       "      <td>0.08</td>\n",
       "      <td>0.25</td>\n",
       "      <td>0.34</td>\n",
       "      <td>-0.08</td>\n",
       "      <td>-0.05</td>\n",
       "      <td>-0.06</td>\n",
       "      <td>0.35</td>\n",
       "      <td>-0.09</td>\n",
       "      <td>...</td>\n",
       "      <td>-0.05</td>\n",
       "      <td>-0.05</td>\n",
       "      <td>0.17</td>\n",
       "      <td>-0.09</td>\n",
       "      <td>-0.04</td>\n",
       "      <td>-0.04</td>\n",
       "      <td>0.31</td>\n",
       "      <td>-0.08</td>\n",
       "      <td>-0.04</td>\n",
       "      <td>0.27</td>\n",
       "    </tr>\n",
       "    <tr>\n",
       "      <th>Quali_fall</th>\n",
       "      <td>0.01</td>\n",
       "      <td>0.08</td>\n",
       "      <td>1.00</td>\n",
       "      <td>-0.01</td>\n",
       "      <td>NaN</td>\n",
       "      <td>-0.01</td>\n",
       "      <td>-0.01</td>\n",
       "      <td>-0.00</td>\n",
       "      <td>NaN</td>\n",
       "      <td>-0.01</td>\n",
       "      <td>...</td>\n",
       "      <td>-0.00</td>\n",
       "      <td>-0.00</td>\n",
       "      <td>NaN</td>\n",
       "      <td>-0.01</td>\n",
       "      <td>-0.00</td>\n",
       "      <td>-0.00</td>\n",
       "      <td>NaN</td>\n",
       "      <td>-0.01</td>\n",
       "      <td>-0.00</td>\n",
       "      <td>NaN</td>\n",
       "    </tr>\n",
       "    <tr>\n",
       "      <th>Quali_FS</th>\n",
       "      <td>-0.01</td>\n",
       "      <td>0.25</td>\n",
       "      <td>-0.01</td>\n",
       "      <td>1.00</td>\n",
       "      <td>NaN</td>\n",
       "      <td>-0.02</td>\n",
       "      <td>-0.01</td>\n",
       "      <td>-0.01</td>\n",
       "      <td>NaN</td>\n",
       "      <td>-0.01</td>\n",
       "      <td>...</td>\n",
       "      <td>-0.01</td>\n",
       "      <td>-0.01</td>\n",
       "      <td>NaN</td>\n",
       "      <td>-0.01</td>\n",
       "      <td>-0.01</td>\n",
       "      <td>-0.00</td>\n",
       "      <td>NaN</td>\n",
       "      <td>-0.01</td>\n",
       "      <td>-0.01</td>\n",
       "      <td>NaN</td>\n",
       "    </tr>\n",
       "    <tr>\n",
       "      <th>Qualification</th>\n",
       "      <td>-0.00</td>\n",
       "      <td>0.34</td>\n",
       "      <td>NaN</td>\n",
       "      <td>NaN</td>\n",
       "      <td>1.00</td>\n",
       "      <td>-0.07</td>\n",
       "      <td>-0.05</td>\n",
       "      <td>-0.05</td>\n",
       "      <td>0.86</td>\n",
       "      <td>-0.04</td>\n",
       "      <td>...</td>\n",
       "      <td>-0.02</td>\n",
       "      <td>-0.02</td>\n",
       "      <td>0.67</td>\n",
       "      <td>-0.05</td>\n",
       "      <td>-0.04</td>\n",
       "      <td>-0.03</td>\n",
       "      <td>0.73</td>\n",
       "      <td>-0.04</td>\n",
       "      <td>-0.02</td>\n",
       "      <td>0.80</td>\n",
       "    </tr>\n",
       "    <tr>\n",
       "      <th>1/8_fall</th>\n",
       "      <td>0.04</td>\n",
       "      <td>-0.08</td>\n",
       "      <td>-0.01</td>\n",
       "      <td>-0.02</td>\n",
       "      <td>-0.07</td>\n",
       "      <td>1.00</td>\n",
       "      <td>-0.01</td>\n",
       "      <td>-0.01</td>\n",
       "      <td>NaN</td>\n",
       "      <td>-0.01</td>\n",
       "      <td>...</td>\n",
       "      <td>-0.01</td>\n",
       "      <td>-0.01</td>\n",
       "      <td>-0.00</td>\n",
       "      <td>-0.01</td>\n",
       "      <td>-0.00</td>\n",
       "      <td>-0.00</td>\n",
       "      <td>NaN</td>\n",
       "      <td>-0.01</td>\n",
       "      <td>-0.00</td>\n",
       "      <td>-0.09</td>\n",
       "    </tr>\n",
       "    <tr>\n",
       "      <th>1/8_FS</th>\n",
       "      <td>0.04</td>\n",
       "      <td>-0.05</td>\n",
       "      <td>-0.01</td>\n",
       "      <td>-0.01</td>\n",
       "      <td>-0.05</td>\n",
       "      <td>-0.01</td>\n",
       "      <td>1.00</td>\n",
       "      <td>-0.00</td>\n",
       "      <td>NaN</td>\n",
       "      <td>-0.01</td>\n",
       "      <td>...</td>\n",
       "      <td>-0.00</td>\n",
       "      <td>-0.00</td>\n",
       "      <td>NaN</td>\n",
       "      <td>-0.01</td>\n",
       "      <td>-0.00</td>\n",
       "      <td>-0.00</td>\n",
       "      <td>NaN</td>\n",
       "      <td>-0.00</td>\n",
       "      <td>-0.00</td>\n",
       "      <td>NaN</td>\n",
       "    </tr>\n",
       "    <tr>\n",
       "      <th>1/8_WC</th>\n",
       "      <td>0.02</td>\n",
       "      <td>-0.06</td>\n",
       "      <td>-0.00</td>\n",
       "      <td>-0.01</td>\n",
       "      <td>-0.05</td>\n",
       "      <td>-0.01</td>\n",
       "      <td>-0.00</td>\n",
       "      <td>1.00</td>\n",
       "      <td>NaN</td>\n",
       "      <td>-0.01</td>\n",
       "      <td>...</td>\n",
       "      <td>-0.00</td>\n",
       "      <td>-0.00</td>\n",
       "      <td>-0.07</td>\n",
       "      <td>0.05</td>\n",
       "      <td>-0.00</td>\n",
       "      <td>-0.00</td>\n",
       "      <td>-0.15</td>\n",
       "      <td>0.06</td>\n",
       "      <td>-0.00</td>\n",
       "      <td>-0.05</td>\n",
       "    </tr>\n",
       "    <tr>\n",
       "      <th>1/8 - Final</th>\n",
       "      <td>0.17</td>\n",
       "      <td>0.35</td>\n",
       "      <td>NaN</td>\n",
       "      <td>NaN</td>\n",
       "      <td>0.86</td>\n",
       "      <td>NaN</td>\n",
       "      <td>NaN</td>\n",
       "      <td>NaN</td>\n",
       "      <td>1.00</td>\n",
       "      <td>0.04</td>\n",
       "      <td>...</td>\n",
       "      <td>-0.02</td>\n",
       "      <td>-0.02</td>\n",
       "      <td>0.68</td>\n",
       "      <td>-0.06</td>\n",
       "      <td>-0.05</td>\n",
       "      <td>-0.02</td>\n",
       "      <td>0.64</td>\n",
       "      <td>-0.06</td>\n",
       "      <td>-0.03</td>\n",
       "      <td>0.79</td>\n",
       "    </tr>\n",
       "    <tr>\n",
       "      <th>1/4_fall</th>\n",
       "      <td>-0.01</td>\n",
       "      <td>-0.09</td>\n",
       "      <td>-0.01</td>\n",
       "      <td>-0.01</td>\n",
       "      <td>-0.04</td>\n",
       "      <td>-0.01</td>\n",
       "      <td>-0.01</td>\n",
       "      <td>-0.01</td>\n",
       "      <td>0.04</td>\n",
       "      <td>1.00</td>\n",
       "      <td>...</td>\n",
       "      <td>-0.00</td>\n",
       "      <td>-0.00</td>\n",
       "      <td>NaN</td>\n",
       "      <td>-0.01</td>\n",
       "      <td>-0.00</td>\n",
       "      <td>-0.00</td>\n",
       "      <td>NaN</td>\n",
       "      <td>-0.01</td>\n",
       "      <td>-0.00</td>\n",
       "      <td>NaN</td>\n",
       "    </tr>\n",
       "    <tr>\n",
       "      <th>1/4_FS</th>\n",
       "      <td>-0.00</td>\n",
       "      <td>-0.07</td>\n",
       "      <td>-0.01</td>\n",
       "      <td>-0.01</td>\n",
       "      <td>-0.06</td>\n",
       "      <td>-0.01</td>\n",
       "      <td>-0.01</td>\n",
       "      <td>0.05</td>\n",
       "      <td>-0.11</td>\n",
       "      <td>-0.01</td>\n",
       "      <td>...</td>\n",
       "      <td>-0.00</td>\n",
       "      <td>-0.00</td>\n",
       "      <td>NaN</td>\n",
       "      <td>-0.01</td>\n",
       "      <td>-0.00</td>\n",
       "      <td>-0.00</td>\n",
       "      <td>NaN</td>\n",
       "      <td>-0.01</td>\n",
       "      <td>-0.00</td>\n",
       "      <td>NaN</td>\n",
       "    </tr>\n",
       "    <tr>\n",
       "      <th>1/4_WC</th>\n",
       "      <td>0.01</td>\n",
       "      <td>-0.05</td>\n",
       "      <td>-0.00</td>\n",
       "      <td>-0.01</td>\n",
       "      <td>-0.04</td>\n",
       "      <td>-0.01</td>\n",
       "      <td>-0.00</td>\n",
       "      <td>-0.00</td>\n",
       "      <td>-0.06</td>\n",
       "      <td>-0.00</td>\n",
       "      <td>...</td>\n",
       "      <td>-0.00</td>\n",
       "      <td>0.14</td>\n",
       "      <td>-0.04</td>\n",
       "      <td>0.07</td>\n",
       "      <td>0.32</td>\n",
       "      <td>0.18</td>\n",
       "      <td>-0.05</td>\n",
       "      <td>-0.00</td>\n",
       "      <td>-0.00</td>\n",
       "      <td>-0.05</td>\n",
       "    </tr>\n",
       "    <tr>\n",
       "      <th>1/4 - Final</th>\n",
       "      <td>-0.15</td>\n",
       "      <td>0.32</td>\n",
       "      <td>NaN</td>\n",
       "      <td>NaN</td>\n",
       "      <td>0.81</td>\n",
       "      <td>-0.05</td>\n",
       "      <td>NaN</td>\n",
       "      <td>-0.10</td>\n",
       "      <td>0.85</td>\n",
       "      <td>NaN</td>\n",
       "      <td>...</td>\n",
       "      <td>-0.03</td>\n",
       "      <td>-0.01</td>\n",
       "      <td>0.58</td>\n",
       "      <td>-0.07</td>\n",
       "      <td>-0.03</td>\n",
       "      <td>-0.04</td>\n",
       "      <td>0.72</td>\n",
       "      <td>-0.07</td>\n",
       "      <td>-0.02</td>\n",
       "      <td>0.64</td>\n",
       "    </tr>\n",
       "    <tr>\n",
       "      <th>1/2_fall</th>\n",
       "      <td>0.00</td>\n",
       "      <td>-0.09</td>\n",
       "      <td>-0.01</td>\n",
       "      <td>-0.01</td>\n",
       "      <td>-0.04</td>\n",
       "      <td>-0.01</td>\n",
       "      <td>-0.01</td>\n",
       "      <td>-0.00</td>\n",
       "      <td>-0.03</td>\n",
       "      <td>-0.01</td>\n",
       "      <td>...</td>\n",
       "      <td>-0.00</td>\n",
       "      <td>-0.00</td>\n",
       "      <td>NaN</td>\n",
       "      <td>0.12</td>\n",
       "      <td>-0.00</td>\n",
       "      <td>-0.00</td>\n",
       "      <td>-0.07</td>\n",
       "      <td>-0.01</td>\n",
       "      <td>-0.00</td>\n",
       "      <td>NaN</td>\n",
       "    </tr>\n",
       "    <tr>\n",
       "      <th>1/2_FS</th>\n",
       "      <td>-0.02</td>\n",
       "      <td>-0.05</td>\n",
       "      <td>-0.00</td>\n",
       "      <td>-0.01</td>\n",
       "      <td>-0.02</td>\n",
       "      <td>-0.01</td>\n",
       "      <td>-0.00</td>\n",
       "      <td>-0.00</td>\n",
       "      <td>-0.02</td>\n",
       "      <td>-0.00</td>\n",
       "      <td>...</td>\n",
       "      <td>1.00</td>\n",
       "      <td>-0.00</td>\n",
       "      <td>NaN</td>\n",
       "      <td>-0.00</td>\n",
       "      <td>-0.00</td>\n",
       "      <td>0.18</td>\n",
       "      <td>0.05</td>\n",
       "      <td>-0.00</td>\n",
       "      <td>-0.00</td>\n",
       "      <td>NaN</td>\n",
       "    </tr>\n",
       "    <tr>\n",
       "      <th>1/2_WC</th>\n",
       "      <td>-0.02</td>\n",
       "      <td>-0.05</td>\n",
       "      <td>-0.00</td>\n",
       "      <td>-0.01</td>\n",
       "      <td>-0.02</td>\n",
       "      <td>-0.01</td>\n",
       "      <td>-0.00</td>\n",
       "      <td>-0.00</td>\n",
       "      <td>-0.02</td>\n",
       "      <td>-0.00</td>\n",
       "      <td>...</td>\n",
       "      <td>-0.00</td>\n",
       "      <td>1.00</td>\n",
       "      <td>NaN</td>\n",
       "      <td>-0.00</td>\n",
       "      <td>-0.00</td>\n",
       "      <td>-0.00</td>\n",
       "      <td>NaN</td>\n",
       "      <td>0.09</td>\n",
       "      <td>-0.00</td>\n",
       "      <td>0.01</td>\n",
       "    </tr>\n",
       "    <tr>\n",
       "      <th>1/2 - Final</th>\n",
       "      <td>-0.10</td>\n",
       "      <td>0.17</td>\n",
       "      <td>NaN</td>\n",
       "      <td>NaN</td>\n",
       "      <td>0.67</td>\n",
       "      <td>-0.00</td>\n",
       "      <td>NaN</td>\n",
       "      <td>-0.07</td>\n",
       "      <td>0.68</td>\n",
       "      <td>NaN</td>\n",
       "      <td>...</td>\n",
       "      <td>NaN</td>\n",
       "      <td>NaN</td>\n",
       "      <td>1.00</td>\n",
       "      <td>0.02</td>\n",
       "      <td>-0.05</td>\n",
       "      <td>0.01</td>\n",
       "      <td>0.61</td>\n",
       "      <td>-0.10</td>\n",
       "      <td>-0.02</td>\n",
       "      <td>0.57</td>\n",
       "    </tr>\n",
       "    <tr>\n",
       "      <th>Small_fall</th>\n",
       "      <td>0.02</td>\n",
       "      <td>-0.09</td>\n",
       "      <td>-0.01</td>\n",
       "      <td>-0.01</td>\n",
       "      <td>-0.05</td>\n",
       "      <td>-0.01</td>\n",
       "      <td>-0.01</td>\n",
       "      <td>0.05</td>\n",
       "      <td>-0.06</td>\n",
       "      <td>-0.01</td>\n",
       "      <td>...</td>\n",
       "      <td>-0.00</td>\n",
       "      <td>-0.00</td>\n",
       "      <td>0.02</td>\n",
       "      <td>1.00</td>\n",
       "      <td>-0.00</td>\n",
       "      <td>-0.00</td>\n",
       "      <td>NaN</td>\n",
       "      <td>-0.01</td>\n",
       "      <td>-0.00</td>\n",
       "      <td>NaN</td>\n",
       "    </tr>\n",
       "    <tr>\n",
       "      <th>Small_FS</th>\n",
       "      <td>0.00</td>\n",
       "      <td>-0.04</td>\n",
       "      <td>-0.00</td>\n",
       "      <td>-0.01</td>\n",
       "      <td>-0.04</td>\n",
       "      <td>-0.00</td>\n",
       "      <td>-0.00</td>\n",
       "      <td>-0.00</td>\n",
       "      <td>-0.05</td>\n",
       "      <td>-0.00</td>\n",
       "      <td>...</td>\n",
       "      <td>-0.00</td>\n",
       "      <td>-0.00</td>\n",
       "      <td>-0.05</td>\n",
       "      <td>-0.00</td>\n",
       "      <td>1.00</td>\n",
       "      <td>-0.00</td>\n",
       "      <td>NaN</td>\n",
       "      <td>-0.00</td>\n",
       "      <td>-0.00</td>\n",
       "      <td>NaN</td>\n",
       "    </tr>\n",
       "    <tr>\n",
       "      <th>Small_WC</th>\n",
       "      <td>-0.00</td>\n",
       "      <td>-0.04</td>\n",
       "      <td>-0.00</td>\n",
       "      <td>-0.00</td>\n",
       "      <td>-0.03</td>\n",
       "      <td>-0.00</td>\n",
       "      <td>-0.00</td>\n",
       "      <td>-0.00</td>\n",
       "      <td>-0.02</td>\n",
       "      <td>-0.00</td>\n",
       "      <td>...</td>\n",
       "      <td>0.18</td>\n",
       "      <td>-0.00</td>\n",
       "      <td>0.01</td>\n",
       "      <td>-0.00</td>\n",
       "      <td>-0.00</td>\n",
       "      <td>1.00</td>\n",
       "      <td>NaN</td>\n",
       "      <td>-0.00</td>\n",
       "      <td>-0.00</td>\n",
       "      <td>NaN</td>\n",
       "    </tr>\n",
       "    <tr>\n",
       "      <th>Small final</th>\n",
       "      <td>-0.02</td>\n",
       "      <td>0.31</td>\n",
       "      <td>NaN</td>\n",
       "      <td>NaN</td>\n",
       "      <td>0.73</td>\n",
       "      <td>NaN</td>\n",
       "      <td>NaN</td>\n",
       "      <td>-0.15</td>\n",
       "      <td>0.64</td>\n",
       "      <td>NaN</td>\n",
       "      <td>...</td>\n",
       "      <td>0.05</td>\n",
       "      <td>NaN</td>\n",
       "      <td>0.61</td>\n",
       "      <td>NaN</td>\n",
       "      <td>NaN</td>\n",
       "      <td>NaN</td>\n",
       "      <td>1.00</td>\n",
       "      <td>NaN</td>\n",
       "      <td>NaN</td>\n",
       "      <td>NaN</td>\n",
       "    </tr>\n",
       "    <tr>\n",
       "      <th>Final_fall</th>\n",
       "      <td>-0.02</td>\n",
       "      <td>-0.08</td>\n",
       "      <td>-0.01</td>\n",
       "      <td>-0.01</td>\n",
       "      <td>-0.04</td>\n",
       "      <td>-0.01</td>\n",
       "      <td>-0.00</td>\n",
       "      <td>0.06</td>\n",
       "      <td>-0.06</td>\n",
       "      <td>-0.01</td>\n",
       "      <td>...</td>\n",
       "      <td>-0.00</td>\n",
       "      <td>0.09</td>\n",
       "      <td>-0.10</td>\n",
       "      <td>-0.01</td>\n",
       "      <td>-0.00</td>\n",
       "      <td>-0.00</td>\n",
       "      <td>NaN</td>\n",
       "      <td>1.00</td>\n",
       "      <td>-0.00</td>\n",
       "      <td>NaN</td>\n",
       "    </tr>\n",
       "    <tr>\n",
       "      <th>Final_FS</th>\n",
       "      <td>0.00</td>\n",
       "      <td>-0.04</td>\n",
       "      <td>-0.00</td>\n",
       "      <td>-0.01</td>\n",
       "      <td>-0.02</td>\n",
       "      <td>-0.00</td>\n",
       "      <td>-0.00</td>\n",
       "      <td>-0.00</td>\n",
       "      <td>-0.03</td>\n",
       "      <td>-0.00</td>\n",
       "      <td>...</td>\n",
       "      <td>-0.00</td>\n",
       "      <td>-0.00</td>\n",
       "      <td>-0.02</td>\n",
       "      <td>-0.00</td>\n",
       "      <td>-0.00</td>\n",
       "      <td>-0.00</td>\n",
       "      <td>NaN</td>\n",
       "      <td>-0.00</td>\n",
       "      <td>1.00</td>\n",
       "      <td>NaN</td>\n",
       "    </tr>\n",
       "    <tr>\n",
       "      <th>Final</th>\n",
       "      <td>-0.17</td>\n",
       "      <td>0.27</td>\n",
       "      <td>NaN</td>\n",
       "      <td>NaN</td>\n",
       "      <td>0.80</td>\n",
       "      <td>-0.09</td>\n",
       "      <td>NaN</td>\n",
       "      <td>-0.05</td>\n",
       "      <td>0.79</td>\n",
       "      <td>NaN</td>\n",
       "      <td>...</td>\n",
       "      <td>NaN</td>\n",
       "      <td>0.01</td>\n",
       "      <td>0.57</td>\n",
       "      <td>NaN</td>\n",
       "      <td>NaN</td>\n",
       "      <td>NaN</td>\n",
       "      <td>NaN</td>\n",
       "      <td>NaN</td>\n",
       "      <td>NaN</td>\n",
       "      <td>1.00</td>\n",
       "    </tr>\n",
       "  </tbody>\n",
       "</table>\n",
       "<p>24 rows × 24 columns</p>\n",
       "</div>"
      ],
      "text/plain": [
       "               StartNr  Rank  Quali_fall  Quali_FS  Qualification  1/8_fall  \\\n",
       "StartNr           1.00 -0.06        0.01     -0.01          -0.00      0.04   \n",
       "Rank             -0.06  1.00        0.08      0.25           0.34     -0.08   \n",
       "Quali_fall        0.01  0.08        1.00     -0.01            NaN     -0.01   \n",
       "Quali_FS         -0.01  0.25       -0.01      1.00            NaN     -0.02   \n",
       "Qualification    -0.00  0.34         NaN       NaN           1.00     -0.07   \n",
       "1/8_fall          0.04 -0.08       -0.01     -0.02          -0.07      1.00   \n",
       "1/8_FS            0.04 -0.05       -0.01     -0.01          -0.05     -0.01   \n",
       "1/8_WC            0.02 -0.06       -0.00     -0.01          -0.05     -0.01   \n",
       "1/8 - Final       0.17  0.35         NaN       NaN           0.86       NaN   \n",
       "1/4_fall         -0.01 -0.09       -0.01     -0.01          -0.04     -0.01   \n",
       "1/4_FS           -0.00 -0.07       -0.01     -0.01          -0.06     -0.01   \n",
       "1/4_WC            0.01 -0.05       -0.00     -0.01          -0.04     -0.01   \n",
       "1/4 - Final      -0.15  0.32         NaN       NaN           0.81     -0.05   \n",
       "1/2_fall          0.00 -0.09       -0.01     -0.01          -0.04     -0.01   \n",
       "1/2_FS           -0.02 -0.05       -0.00     -0.01          -0.02     -0.01   \n",
       "1/2_WC           -0.02 -0.05       -0.00     -0.01          -0.02     -0.01   \n",
       "1/2 - Final      -0.10  0.17         NaN       NaN           0.67     -0.00   \n",
       "Small_fall        0.02 -0.09       -0.01     -0.01          -0.05     -0.01   \n",
       "Small_FS          0.00 -0.04       -0.00     -0.01          -0.04     -0.00   \n",
       "Small_WC         -0.00 -0.04       -0.00     -0.00          -0.03     -0.00   \n",
       "Small final      -0.02  0.31         NaN       NaN           0.73       NaN   \n",
       "Final_fall       -0.02 -0.08       -0.01     -0.01          -0.04     -0.01   \n",
       "Final_FS          0.00 -0.04       -0.00     -0.01          -0.02     -0.00   \n",
       "Final            -0.17  0.27         NaN       NaN           0.80     -0.09   \n",
       "\n",
       "               1/8_FS  1/8_WC  1/8 - Final  1/4_fall  ...  1/2_FS  1/2_WC  \\\n",
       "StartNr          0.04    0.02         0.17     -0.01  ...   -0.02   -0.02   \n",
       "Rank            -0.05   -0.06         0.35     -0.09  ...   -0.05   -0.05   \n",
       "Quali_fall      -0.01   -0.00          NaN     -0.01  ...   -0.00   -0.00   \n",
       "Quali_FS        -0.01   -0.01          NaN     -0.01  ...   -0.01   -0.01   \n",
       "Qualification   -0.05   -0.05         0.86     -0.04  ...   -0.02   -0.02   \n",
       "1/8_fall        -0.01   -0.01          NaN     -0.01  ...   -0.01   -0.01   \n",
       "1/8_FS           1.00   -0.00          NaN     -0.01  ...   -0.00   -0.00   \n",
       "1/8_WC          -0.00    1.00          NaN     -0.01  ...   -0.00   -0.00   \n",
       "1/8 - Final       NaN     NaN         1.00      0.04  ...   -0.02   -0.02   \n",
       "1/4_fall        -0.01   -0.01         0.04      1.00  ...   -0.00   -0.00   \n",
       "1/4_FS          -0.01    0.05        -0.11     -0.01  ...   -0.00   -0.00   \n",
       "1/4_WC          -0.00   -0.00        -0.06     -0.00  ...   -0.00    0.14   \n",
       "1/4 - Final       NaN   -0.10         0.85       NaN  ...   -0.03   -0.01   \n",
       "1/2_fall        -0.01   -0.00        -0.03     -0.01  ...   -0.00   -0.00   \n",
       "1/2_FS          -0.00   -0.00        -0.02     -0.00  ...    1.00   -0.00   \n",
       "1/2_WC          -0.00   -0.00        -0.02     -0.00  ...   -0.00    1.00   \n",
       "1/2 - Final       NaN   -0.07         0.68       NaN  ...     NaN     NaN   \n",
       "Small_fall      -0.01    0.05        -0.06     -0.01  ...   -0.00   -0.00   \n",
       "Small_FS        -0.00   -0.00        -0.05     -0.00  ...   -0.00   -0.00   \n",
       "Small_WC        -0.00   -0.00        -0.02     -0.00  ...    0.18   -0.00   \n",
       "Small final       NaN   -0.15         0.64       NaN  ...    0.05     NaN   \n",
       "Final_fall      -0.00    0.06        -0.06     -0.01  ...   -0.00    0.09   \n",
       "Final_FS        -0.00   -0.00        -0.03     -0.00  ...   -0.00   -0.00   \n",
       "Final             NaN   -0.05         0.79       NaN  ...     NaN    0.01   \n",
       "\n",
       "               1/2 - Final  Small_fall  Small_FS  Small_WC  Small final  \\\n",
       "StartNr              -0.10        0.02      0.00     -0.00        -0.02   \n",
       "Rank                  0.17       -0.09     -0.04     -0.04         0.31   \n",
       "Quali_fall             NaN       -0.01     -0.00     -0.00          NaN   \n",
       "Quali_FS               NaN       -0.01     -0.01     -0.00          NaN   \n",
       "Qualification         0.67       -0.05     -0.04     -0.03         0.73   \n",
       "1/8_fall             -0.00       -0.01     -0.00     -0.00          NaN   \n",
       "1/8_FS                 NaN       -0.01     -0.00     -0.00          NaN   \n",
       "1/8_WC               -0.07        0.05     -0.00     -0.00        -0.15   \n",
       "1/8 - Final           0.68       -0.06     -0.05     -0.02         0.64   \n",
       "1/4_fall               NaN       -0.01     -0.00     -0.00          NaN   \n",
       "1/4_FS                 NaN       -0.01     -0.00     -0.00          NaN   \n",
       "1/4_WC               -0.04        0.07      0.32      0.18        -0.05   \n",
       "1/4 - Final           0.58       -0.07     -0.03     -0.04         0.72   \n",
       "1/2_fall               NaN        0.12     -0.00     -0.00        -0.07   \n",
       "1/2_FS                 NaN       -0.00     -0.00      0.18         0.05   \n",
       "1/2_WC                 NaN       -0.00     -0.00     -0.00          NaN   \n",
       "1/2 - Final           1.00        0.02     -0.05      0.01         0.61   \n",
       "Small_fall            0.02        1.00     -0.00     -0.00          NaN   \n",
       "Small_FS             -0.05       -0.00      1.00     -0.00          NaN   \n",
       "Small_WC              0.01       -0.00     -0.00      1.00          NaN   \n",
       "Small final           0.61         NaN       NaN       NaN         1.00   \n",
       "Final_fall           -0.10       -0.01     -0.00     -0.00          NaN   \n",
       "Final_FS             -0.02       -0.00     -0.00     -0.00          NaN   \n",
       "Final                 0.57         NaN       NaN       NaN          NaN   \n",
       "\n",
       "               Final_fall  Final_FS  Final  \n",
       "StartNr             -0.02      0.00  -0.17  \n",
       "Rank                -0.08     -0.04   0.27  \n",
       "Quali_fall          -0.01     -0.00    NaN  \n",
       "Quali_FS            -0.01     -0.01    NaN  \n",
       "Qualification       -0.04     -0.02   0.80  \n",
       "1/8_fall            -0.01     -0.00  -0.09  \n",
       "1/8_FS              -0.00     -0.00    NaN  \n",
       "1/8_WC               0.06     -0.00  -0.05  \n",
       "1/8 - Final         -0.06     -0.03   0.79  \n",
       "1/4_fall            -0.01     -0.00    NaN  \n",
       "1/4_FS              -0.01     -0.00    NaN  \n",
       "1/4_WC              -0.00     -0.00  -0.05  \n",
       "1/4 - Final         -0.07     -0.02   0.64  \n",
       "1/2_fall            -0.01     -0.00    NaN  \n",
       "1/2_FS              -0.00     -0.00    NaN  \n",
       "1/2_WC               0.09     -0.00   0.01  \n",
       "1/2 - Final         -0.10     -0.02   0.57  \n",
       "Small_fall          -0.01     -0.00    NaN  \n",
       "Small_FS            -0.00     -0.00    NaN  \n",
       "Small_WC            -0.00     -0.00    NaN  \n",
       "Small final           NaN       NaN    NaN  \n",
       "Final_fall           1.00     -0.00    NaN  \n",
       "Final_FS            -0.00      1.00    NaN  \n",
       "Final                 NaN       NaN   1.00  \n",
       "\n",
       "[24 rows x 24 columns]"
      ]
     },
     "execution_count": 78,
     "metadata": {},
     "output_type": "execute_result"
    }
   ],
   "source": [
    "corr"
   ]
  },
  {
   "cell_type": "markdown",
   "id": "4c0e1d63",
   "metadata": {},
   "source": [
    "For analysis purposes, it doesn't make sense to include the one-hot encoded categorical columns in the correlation matrix, so I will remove them, so that we can focus on the results."
   ]
  },
  {
   "cell_type": "code",
   "execution_count": 79,
   "id": "323a3ec4",
   "metadata": {},
   "outputs": [],
   "source": [
    "columns_to_keep=['StartNr','Rank','Qualification','1/8 - Final','1/4 - Final','1/2 - Final','Small final','Final']"
   ]
  },
  {
   "cell_type": "code",
   "execution_count": 80,
   "id": "00f01dec",
   "metadata": {},
   "outputs": [],
   "source": [
    "df_corr = df[columns_to_keep]"
   ]
  },
  {
   "cell_type": "code",
   "execution_count": 81,
   "id": "8e87bdad",
   "metadata": {
    "scrolled": true
   },
   "outputs": [
    {
     "data": {
      "image/png": "[encoded data removed]",
      "text/plain": [
       "<Figure size 432x288 with 2 Axes>"
      ]
     },
     "metadata": {
      "needs_background": "light"
     },
     "output_type": "display_data"
    }
   ],
   "source": [
    "corr = df_corr.corr().round(2)\n",
    "\n",
    "mask = np.zeros_like(corr)\n",
    "mask[np.triu_indices_from(mask)] = True\n",
    "\n",
    "axis_corr = sns.heatmap(\n",
    "    corr,\n",
    "    vmin=-1, vmax=1, center=0,\n",
    "    cmap=sns.diverging_palette(50, 500, n=500),\n",
    "    square=True,\n",
    "    mask=mask,\n",
    "    )\n",
    "\n",
    "plt.show()"
   ]
  },
  {
   "cell_type": "code",
   "execution_count": 82,
   "id": "38ecc11b",
   "metadata": {
    "scrolled": true
   },
   "outputs": [
    {
     "data": {
      "text/html": [
       "<div>\n",
       "<style scoped>\n",
       "    .dataframe tbody tr th:only-of-type {\n",
       "        vertical-align: middle;\n",
       "    }\n",
       "\n",
       "    .dataframe tbody tr th {\n",
       "        vertical-align: top;\n",
       "    }\n",
       "\n",
       "    .dataframe thead th {\n",
       "        text-align: right;\n",
       "    }\n",
       "</style>\n",
       "<table border=\"1\" class=\"dataframe\">\n",
       "  <thead>\n",
       "    <tr style=\"text-align: right;\">\n",
       "      <th></th>\n",
       "      <th>StartNr</th>\n",
       "      <th>Rank</th>\n",
       "      <th>Qualification</th>\n",
       "      <th>1/8 - Final</th>\n",
       "      <th>1/4 - Final</th>\n",
       "      <th>1/2 - Final</th>\n",
       "      <th>Small final</th>\n",
       "      <th>Final</th>\n",
       "    </tr>\n",
       "  </thead>\n",
       "  <tbody>\n",
       "    <tr>\n",
       "      <th>StartNr</th>\n",
       "      <td>1.00</td>\n",
       "      <td>-0.06</td>\n",
       "      <td>-0.00</td>\n",
       "      <td>0.17</td>\n",
       "      <td>-0.15</td>\n",
       "      <td>-0.10</td>\n",
       "      <td>-0.02</td>\n",
       "      <td>-0.17</td>\n",
       "    </tr>\n",
       "    <tr>\n",
       "      <th>Rank</th>\n",
       "      <td>-0.06</td>\n",
       "      <td>1.00</td>\n",
       "      <td>0.34</td>\n",
       "      <td>0.35</td>\n",
       "      <td>0.32</td>\n",
       "      <td>0.17</td>\n",
       "      <td>0.31</td>\n",
       "      <td>0.27</td>\n",
       "    </tr>\n",
       "    <tr>\n",
       "      <th>Qualification</th>\n",
       "      <td>-0.00</td>\n",
       "      <td>0.34</td>\n",
       "      <td>1.00</td>\n",
       "      <td>0.86</td>\n",
       "      <td>0.81</td>\n",
       "      <td>0.67</td>\n",
       "      <td>0.73</td>\n",
       "      <td>0.80</td>\n",
       "    </tr>\n",
       "    <tr>\n",
       "      <th>1/8 - Final</th>\n",
       "      <td>0.17</td>\n",
       "      <td>0.35</td>\n",
       "      <td>0.86</td>\n",
       "      <td>1.00</td>\n",
       "      <td>0.85</td>\n",
       "      <td>0.68</td>\n",
       "      <td>0.64</td>\n",
       "      <td>0.79</td>\n",
       "    </tr>\n",
       "    <tr>\n",
       "      <th>1/4 - Final</th>\n",
       "      <td>-0.15</td>\n",
       "      <td>0.32</td>\n",
       "      <td>0.81</td>\n",
       "      <td>0.85</td>\n",
       "      <td>1.00</td>\n",
       "      <td>0.58</td>\n",
       "      <td>0.72</td>\n",
       "      <td>0.64</td>\n",
       "    </tr>\n",
       "    <tr>\n",
       "      <th>1/2 - Final</th>\n",
       "      <td>-0.10</td>\n",
       "      <td>0.17</td>\n",
       "      <td>0.67</td>\n",
       "      <td>0.68</td>\n",
       "      <td>0.58</td>\n",
       "      <td>1.00</td>\n",
       "      <td>0.61</td>\n",
       "      <td>0.57</td>\n",
       "    </tr>\n",
       "    <tr>\n",
       "      <th>Small final</th>\n",
       "      <td>-0.02</td>\n",
       "      <td>0.31</td>\n",
       "      <td>0.73</td>\n",
       "      <td>0.64</td>\n",
       "      <td>0.72</td>\n",
       "      <td>0.61</td>\n",
       "      <td>1.00</td>\n",
       "      <td>NaN</td>\n",
       "    </tr>\n",
       "    <tr>\n",
       "      <th>Final</th>\n",
       "      <td>-0.17</td>\n",
       "      <td>0.27</td>\n",
       "      <td>0.80</td>\n",
       "      <td>0.79</td>\n",
       "      <td>0.64</td>\n",
       "      <td>0.57</td>\n",
       "      <td>NaN</td>\n",
       "      <td>1.00</td>\n",
       "    </tr>\n",
       "  </tbody>\n",
       "</table>\n",
       "</div>"
      ],
      "text/plain": [
       "               StartNr  Rank  Qualification  1/8 - Final  1/4 - Final  \\\n",
       "StartNr           1.00 -0.06          -0.00         0.17        -0.15   \n",
       "Rank             -0.06  1.00           0.34         0.35         0.32   \n",
       "Qualification    -0.00  0.34           1.00         0.86         0.81   \n",
       "1/8 - Final       0.17  0.35           0.86         1.00         0.85   \n",
       "1/4 - Final      -0.15  0.32           0.81         0.85         1.00   \n",
       "1/2 - Final      -0.10  0.17           0.67         0.68         0.58   \n",
       "Small final      -0.02  0.31           0.73         0.64         0.72   \n",
       "Final            -0.17  0.27           0.80         0.79         0.64   \n",
       "\n",
       "               1/2 - Final  Small final  Final  \n",
       "StartNr              -0.10        -0.02  -0.17  \n",
       "Rank                  0.17         0.31   0.27  \n",
       "Qualification         0.67         0.73   0.80  \n",
       "1/8 - Final           0.68         0.64   0.79  \n",
       "1/4 - Final           0.58         0.72   0.64  \n",
       "1/2 - Final           1.00         0.61   0.57  \n",
       "Small final           0.61         1.00    NaN  \n",
       "Final                 0.57          NaN   1.00  "
      ]
     },
     "execution_count": 82,
     "metadata": {},
     "output_type": "execute_result"
    }
   ],
   "source": [
    "corr"
   ]
  },
  {
   "cell_type": "markdown",
   "id": "3b23e22c",
   "metadata": {},
   "source": [
    "Small Final and Final have no valid correlation measure between them due to the competition structure. The Small Final athletes do not compete in the Final. \n",
    "\n",
    "In general, there is fairly high correlation between results in each round of competition indicating consistency. It is interesting that the Qualification and 1/8 - Final times have a higher correlation with the Final times than the 1/4 - Final or 1/2 - Final.\n",
    "\n",
    "There is not significant correlation with the results measured in seconds and the StartNr and Rank variables. Both are ordinal, depending on the competition, whereas the results are continuous."
   ]
  },
  {
   "cell_type": "markdown",
   "id": "db4eec3c",
   "metadata": {},
   "source": [
    "### Level 3\n",
    "### Exercise 4\n",
    "Continuing with the sports theme data, select an attribute and calculate the geometric mean and harmonic mean."
   ]
  },
  {
   "cell_type": "markdown",
   "id": "8769752f",
   "metadata": {},
   "source": [
    "I will skip this level and come back to it if I have time at the end of the course."
   ]
  }
 ],
 "metadata": {
  "kernelspec": {
   "display_name": "Python 3 (ipykernel)",
   "language": "python",
   "name": "python3"
  },
  "language_info": {
   "codemirror_mode": {
    "name": "ipython",
    "version": 3
   },
   "file_extension": ".py",
   "mimetype": "text/x-python",
   "name": "python",
   "nbconvert_exporter": "python",
   "pygments_lexer": "ipython3",
   "version": "3.8.8"
  },
  "nbTranslate": {
   "displayLangs": [
    "es",
    "en"
   ],
   "hotkey": "alt-t",
   "langInMainMenu": true,
   "sourceLang": "en",
   "targetLang": "es",
   "useGoogleTranslate": true
  },
  "varInspector": {
   "cols": {
    "lenName": 16,
    "lenType": 16,
    "lenVar": 40
   },
   "kernels_config": {
    "python": {
     "delete_cmd_postfix": "",
     "delete_cmd_prefix": "del ",
     "library": "var_list.py",
     "varRefreshCmd": "print(var_dic_list())"
    },
    "r": {
     "delete_cmd_postfix": ") ",
     "delete_cmd_prefix": "rm(",
     "library": "var_list.r",
     "varRefreshCmd": "cat(var_dic_list()) "
    }
   },
   "types_to_exclude": [
    "module",
    "function",
    "builtin_function_or_method",
    "instance",
    "_Feature"
   ],
   "window_display": false
  }
 },
 "nbformat": 4,
 "nbformat_minor": 5
}
